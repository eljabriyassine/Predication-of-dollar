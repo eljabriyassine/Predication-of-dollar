{
 "cells": [
  {
   "cell_type": "code",
   "execution_count": 32,
   "metadata": {},
   "outputs": [],
   "source": [
    "import pandas as pd\n",
    "import numpy as np\n",
    "import matplotlib.pyplot as plt\n",
    "import seaborn as sns\n",
    "from sklearn.model_selection import train_test_split\n",
    "from sklearn.preprocessing import StandardScaler\n",
    "from sklearn.linear_model import LinearRegression\n",
    "from sklearn.metrics import mean_squared_error\n",
    "from sklearn.linear_model import LinearRegression\n",
    "\n",
    "\n",
    "\n"
   ]
  },
  {
   "cell_type": "code",
   "execution_count": 33,
   "metadata": {},
   "outputs": [],
   "source": [
    "from seaborn import regression"
   ]
  },
  {
   "cell_type": "code",
   "execution_count": 34,
   "metadata": {},
   "outputs": [],
   "source": [
    "\n",
    "sns.set(style=\"whitegrid\")\n"
   ]
  },
  {
   "cell_type": "code",
   "execution_count": 35,
   "metadata": {},
   "outputs": [],
   "source": [
    "gold_data = pd.read_csv(\"C:\\\\el jabri\\DATASET FOR DOLLAR PREDICTION\\\\final data\\\\Gold For Dollar Prediction 2000-2022.csv\")\n",
    "inflation_data = pd.read_csv(\"C:\\\\el jabri\\DATASET FOR DOLLAR PREDICTION\\\\final data\\\\INFLATION RATE 2000-2022.csv\")\n",
    "unemployment_rate_data = pd.read_csv(\"C:\\\\el jabri\\DATASET FOR DOLLAR PREDICTION\\\\final data\\\\Unemployment Rate 2000-2022.csv\")\n",
    "brend_oil_data = pd.read_csv(\"C:\\\\el jabri\\DATASET FOR DOLLAR PREDICTION\\\\final data\\\\Brent Oil For Dollar Prediction 2000-2019.csv\")\n",
    "euro_usd_data = pd.read_csv(\"C:\\\\el jabri\\DATASET FOR DOLLAR PREDICTION\\\\final data\\\\EUR_USD Historical Data_2000_2019.csv\")\n",
    "\n"
   ]
  },
  {
   "cell_type": "markdown",
   "metadata": {},
   "source": [
    "# Display basic information about each dataset\n"
   ]
  },
  {
   "cell_type": "markdown",
   "metadata": {},
   "source": [
    "## Gold Data Info"
   ]
  },
  {
   "cell_type": "code",
   "execution_count": 36,
   "metadata": {},
   "outputs": [
    {
     "data": {
      "text/html": [
       "<div>\n",
       "<style scoped>\n",
       "    .dataframe tbody tr th:only-of-type {\n",
       "        vertical-align: middle;\n",
       "    }\n",
       "\n",
       "    .dataframe tbody tr th {\n",
       "        vertical-align: top;\n",
       "    }\n",
       "\n",
       "    .dataframe thead th {\n",
       "        text-align: right;\n",
       "    }\n",
       "</style>\n",
       "<table border=\"1\" class=\"dataframe\">\n",
       "  <thead>\n",
       "    <tr style=\"text-align: right;\">\n",
       "      <th></th>\n",
       "      <th>Date</th>\n",
       "      <th>High</th>\n",
       "      <th>Low</th>\n",
       "      <th>Currency</th>\n",
       "    </tr>\n",
       "  </thead>\n",
       "  <tbody>\n",
       "    <tr>\n",
       "      <th>0</th>\n",
       "      <td>01/04/2000</td>\n",
       "      <td>289.5</td>\n",
       "      <td>280.0</td>\n",
       "      <td>USD</td>\n",
       "    </tr>\n",
       "    <tr>\n",
       "      <th>1</th>\n",
       "      <td>01/05/2000</td>\n",
       "      <td>285.0</td>\n",
       "      <td>281.0</td>\n",
       "      <td>USD</td>\n",
       "    </tr>\n",
       "    <tr>\n",
       "      <th>2</th>\n",
       "      <td>01/06/2000</td>\n",
       "      <td>282.8</td>\n",
       "      <td>280.2</td>\n",
       "      <td>USD</td>\n",
       "    </tr>\n",
       "    <tr>\n",
       "      <th>3</th>\n",
       "      <td>01/07/2000</td>\n",
       "      <td>284.5</td>\n",
       "      <td>282.0</td>\n",
       "      <td>USD</td>\n",
       "    </tr>\n",
       "    <tr>\n",
       "      <th>4</th>\n",
       "      <td>01/10/2000</td>\n",
       "      <td>283.9</td>\n",
       "      <td>281.8</td>\n",
       "      <td>USD</td>\n",
       "    </tr>\n",
       "  </tbody>\n",
       "</table>\n",
       "</div>"
      ],
      "text/plain": [
       "         Date   High    Low Currency\n",
       "0  01/04/2000  289.5  280.0      USD\n",
       "1  01/05/2000  285.0  281.0      USD\n",
       "2  01/06/2000  282.8  280.2      USD\n",
       "3  01/07/2000  284.5  282.0      USD\n",
       "4  01/10/2000  283.9  281.8      USD"
      ]
     },
     "execution_count": 36,
     "metadata": {},
     "output_type": "execute_result"
    }
   ],
   "source": [
    "gold_data.head()\n"
   ]
  },
  {
   "cell_type": "code",
   "execution_count": 37,
   "metadata": {},
   "outputs": [
    {
     "data": {
      "text/html": [
       "<div>\n",
       "<style scoped>\n",
       "    .dataframe tbody tr th:only-of-type {\n",
       "        vertical-align: middle;\n",
       "    }\n",
       "\n",
       "    .dataframe tbody tr th {\n",
       "        vertical-align: top;\n",
       "    }\n",
       "\n",
       "    .dataframe thead th {\n",
       "        text-align: right;\n",
       "    }\n",
       "</style>\n",
       "<table border=\"1\" class=\"dataframe\">\n",
       "  <thead>\n",
       "    <tr style=\"text-align: right;\">\n",
       "      <th></th>\n",
       "      <th>Date</th>\n",
       "      <th>High</th>\n",
       "      <th>Low</th>\n",
       "      <th>Currency</th>\n",
       "    </tr>\n",
       "  </thead>\n",
       "  <tbody>\n",
       "    <tr>\n",
       "      <th>5698</th>\n",
       "      <td>8/29/2022</td>\n",
       "      <td>1757.90</td>\n",
       "      <td>1731.40</td>\n",
       "      <td>USD</td>\n",
       "    </tr>\n",
       "    <tr>\n",
       "      <th>5699</th>\n",
       "      <td>8/30/2022</td>\n",
       "      <td>1752.80</td>\n",
       "      <td>1732.90</td>\n",
       "      <td>USD</td>\n",
       "    </tr>\n",
       "    <tr>\n",
       "      <th>5700</th>\n",
       "      <td>8/31/2022</td>\n",
       "      <td>1738.00</td>\n",
       "      <td>1720.60</td>\n",
       "      <td>USD</td>\n",
       "    </tr>\n",
       "    <tr>\n",
       "      <th>5701</th>\n",
       "      <td>09/01/2022</td>\n",
       "      <td>1723.00</td>\n",
       "      <td>1699.10</td>\n",
       "      <td>USD</td>\n",
       "    </tr>\n",
       "    <tr>\n",
       "      <th>5702</th>\n",
       "      <td>09/02/2022</td>\n",
       "      <td>1729.45</td>\n",
       "      <td>1707.05</td>\n",
       "      <td>USD</td>\n",
       "    </tr>\n",
       "  </tbody>\n",
       "</table>\n",
       "</div>"
      ],
      "text/plain": [
       "            Date     High      Low Currency\n",
       "5698   8/29/2022  1757.90  1731.40      USD\n",
       "5699   8/30/2022  1752.80  1732.90      USD\n",
       "5700   8/31/2022  1738.00  1720.60      USD\n",
       "5701  09/01/2022  1723.00  1699.10      USD\n",
       "5702  09/02/2022  1729.45  1707.05      USD"
      ]
     },
     "execution_count": 37,
     "metadata": {},
     "output_type": "execute_result"
    }
   ],
   "source": [
    "gold_data.tail()"
   ]
  },
  {
   "cell_type": "code",
   "execution_count": 38,
   "metadata": {},
   "outputs": [
    {
     "name": "stdout",
     "output_type": "stream",
     "text": [
      "<class 'pandas.core.frame.DataFrame'>\n",
      "RangeIndex: 5703 entries, 0 to 5702\n",
      "Data columns (total 4 columns):\n",
      " #   Column    Non-Null Count  Dtype  \n",
      "---  ------    --------------  -----  \n",
      " 0   Date      5703 non-null   object \n",
      " 1   High      5703 non-null   float64\n",
      " 2   Low       5703 non-null   float64\n",
      " 3   Currency  5703 non-null   object \n",
      "dtypes: float64(2), object(2)\n",
      "memory usage: 178.3+ KB\n"
     ]
    }
   ],
   "source": [
    "gold_data.info()"
   ]
  },
  {
   "cell_type": "code",
   "execution_count": 39,
   "metadata": {},
   "outputs": [
    {
     "data": {
      "text/html": [
       "<div>\n",
       "<style scoped>\n",
       "    .dataframe tbody tr th:only-of-type {\n",
       "        vertical-align: middle;\n",
       "    }\n",
       "\n",
       "    .dataframe tbody tr th {\n",
       "        vertical-align: top;\n",
       "    }\n",
       "\n",
       "    .dataframe thead th {\n",
       "        text-align: right;\n",
       "    }\n",
       "</style>\n",
       "<table border=\"1\" class=\"dataframe\">\n",
       "  <thead>\n",
       "    <tr style=\"text-align: right;\">\n",
       "      <th></th>\n",
       "      <th>High</th>\n",
       "      <th>Low</th>\n",
       "    </tr>\n",
       "  </thead>\n",
       "  <tbody>\n",
       "    <tr>\n",
       "      <th>count</th>\n",
       "      <td>5703.000000</td>\n",
       "      <td>5703.000000</td>\n",
       "    </tr>\n",
       "    <tr>\n",
       "      <th>mean</th>\n",
       "      <td>1048.339181</td>\n",
       "      <td>1031.863169</td>\n",
       "    </tr>\n",
       "    <tr>\n",
       "      <th>std</th>\n",
       "      <td>522.353946</td>\n",
       "      <td>514.455903</td>\n",
       "    </tr>\n",
       "    <tr>\n",
       "      <th>min</th>\n",
       "      <td>259.400000</td>\n",
       "      <td>255.100000</td>\n",
       "    </tr>\n",
       "    <tr>\n",
       "      <th>25%</th>\n",
       "      <td>463.900000</td>\n",
       "      <td>457.450000</td>\n",
       "    </tr>\n",
       "    <tr>\n",
       "      <th>50%</th>\n",
       "      <td>1198.000000</td>\n",
       "      <td>1179.700000</td>\n",
       "    </tr>\n",
       "    <tr>\n",
       "      <th>75%</th>\n",
       "      <td>1392.750000</td>\n",
       "      <td>1368.100000</td>\n",
       "    </tr>\n",
       "    <tr>\n",
       "      <th>max</th>\n",
       "      <td>2089.200000</td>\n",
       "      <td>2049.000000</td>\n",
       "    </tr>\n",
       "  </tbody>\n",
       "</table>\n",
       "</div>"
      ],
      "text/plain": [
       "              High          Low\n",
       "count  5703.000000  5703.000000\n",
       "mean   1048.339181  1031.863169\n",
       "std     522.353946   514.455903\n",
       "min     259.400000   255.100000\n",
       "25%     463.900000   457.450000\n",
       "50%    1198.000000  1179.700000\n",
       "75%    1392.750000  1368.100000\n",
       "max    2089.200000  2049.000000"
      ]
     },
     "execution_count": 39,
     "metadata": {},
     "output_type": "execute_result"
    }
   ],
   "source": [
    "gold_data.describe()"
   ]
  },
  {
   "cell_type": "code",
   "execution_count": 40,
   "metadata": {},
   "outputs": [
    {
     "data": {
      "image/png": "[encoded data removed]",
      "text/plain": [
       "<Figure size 1000x600 with 1 Axes>"
      ]
     },
     "metadata": {},
     "output_type": "display_data"
    }
   ],
   "source": [
    "downsampled_data = gold_data.iloc[::2]\n",
    "\n",
    "# Calculate the mean of 'High' and 'Low' for each row in the downsampled data\n",
    "mean_values = downsampled_data[['High', 'Low']].mean(axis=1)\n",
    "\n",
    "# Downsample the 'Date' to match the number of data points in 'mean_values'\n",
    "downsampled_dates = downsampled_data['Date']\n",
    "\n",
    "plt.figure(figsize=(10, 6))\n",
    "plt.title('Gold For Dollar Predictio')\n",
    "plt.xlabel('Date')\n",
    "plt.ylabel('Mean of High and Low')\n",
    "plt.plot(downsampled_dates, mean_values)\n",
    "\n",
    "plt.show()"
   ]
  },
  {
   "cell_type": "markdown",
   "metadata": {},
   "source": [
    "## inflation_data"
   ]
  },
  {
   "cell_type": "code",
   "execution_count": 41,
   "metadata": {},
   "outputs": [
    {
     "data": {
      "text/html": [
       "<div>\n",
       "<style scoped>\n",
       "    .dataframe tbody tr th:only-of-type {\n",
       "        vertical-align: middle;\n",
       "    }\n",
       "\n",
       "    .dataframe tbody tr th {\n",
       "        vertical-align: top;\n",
       "    }\n",
       "\n",
       "    .dataframe thead th {\n",
       "        text-align: right;\n",
       "    }\n",
       "</style>\n",
       "<table border=\"1\" class=\"dataframe\">\n",
       "  <thead>\n",
       "    <tr style=\"text-align: right;\">\n",
       "      <th></th>\n",
       "      <th>Date</th>\n",
       "      <th>INFLATION RATE</th>\n",
       "    </tr>\n",
       "  </thead>\n",
       "  <tbody>\n",
       "    <tr>\n",
       "      <th>0</th>\n",
       "      <td>01/01/2000</td>\n",
       "      <td>3.376857</td>\n",
       "    </tr>\n",
       "    <tr>\n",
       "      <th>1</th>\n",
       "      <td>01/01/2001</td>\n",
       "      <td>2.826171</td>\n",
       "    </tr>\n",
       "    <tr>\n",
       "      <th>2</th>\n",
       "      <td>01/01/2002</td>\n",
       "      <td>1.586032</td>\n",
       "    </tr>\n",
       "    <tr>\n",
       "      <th>3</th>\n",
       "      <td>01/01/2003</td>\n",
       "      <td>2.270095</td>\n",
       "    </tr>\n",
       "    <tr>\n",
       "      <th>4</th>\n",
       "      <td>01/01/2004</td>\n",
       "      <td>2.677237</td>\n",
       "    </tr>\n",
       "  </tbody>\n",
       "</table>\n",
       "</div>"
      ],
      "text/plain": [
       "         Date  INFLATION RATE\n",
       "0  01/01/2000        3.376857\n",
       "1  01/01/2001        2.826171\n",
       "2  01/01/2002        1.586032\n",
       "3  01/01/2003        2.270095\n",
       "4  01/01/2004        2.677237"
      ]
     },
     "execution_count": 41,
     "metadata": {},
     "output_type": "execute_result"
    }
   ],
   "source": [
    "inflation_data.head()"
   ]
  },
  {
   "cell_type": "code",
   "execution_count": 42,
   "metadata": {},
   "outputs": [
    {
     "data": {
      "text/html": [
       "<div>\n",
       "<style scoped>\n",
       "    .dataframe tbody tr th:only-of-type {\n",
       "        vertical-align: middle;\n",
       "    }\n",
       "\n",
       "    .dataframe tbody tr th {\n",
       "        vertical-align: top;\n",
       "    }\n",
       "\n",
       "    .dataframe thead th {\n",
       "        text-align: right;\n",
       "    }\n",
       "</style>\n",
       "<table border=\"1\" class=\"dataframe\">\n",
       "  <thead>\n",
       "    <tr style=\"text-align: right;\">\n",
       "      <th></th>\n",
       "      <th>Date</th>\n",
       "      <th>INFLATION RATE</th>\n",
       "    </tr>\n",
       "  </thead>\n",
       "  <tbody>\n",
       "    <tr>\n",
       "      <th>18</th>\n",
       "      <td>01/01/2018</td>\n",
       "      <td>2.442583</td>\n",
       "    </tr>\n",
       "    <tr>\n",
       "      <th>19</th>\n",
       "      <td>01/01/2019</td>\n",
       "      <td>1.812210</td>\n",
       "    </tr>\n",
       "    <tr>\n",
       "      <th>20</th>\n",
       "      <td>01/01/2020</td>\n",
       "      <td>1.233584</td>\n",
       "    </tr>\n",
       "    <tr>\n",
       "      <th>21</th>\n",
       "      <td>01/01/2021</td>\n",
       "      <td>4.697859</td>\n",
       "    </tr>\n",
       "    <tr>\n",
       "      <th>22</th>\n",
       "      <td>01/01/2022</td>\n",
       "      <td>8.002800</td>\n",
       "    </tr>\n",
       "  </tbody>\n",
       "</table>\n",
       "</div>"
      ],
      "text/plain": [
       "          Date  INFLATION RATE\n",
       "18  01/01/2018        2.442583\n",
       "19  01/01/2019        1.812210\n",
       "20  01/01/2020        1.233584\n",
       "21  01/01/2021        4.697859\n",
       "22  01/01/2022        8.002800"
      ]
     },
     "execution_count": 42,
     "metadata": {},
     "output_type": "execute_result"
    }
   ],
   "source": [
    "inflation_data.tail()"
   ]
  },
  {
   "cell_type": "code",
   "execution_count": 43,
   "metadata": {},
   "outputs": [
    {
     "data": {
      "text/html": [
       "<div>\n",
       "<style scoped>\n",
       "    .dataframe tbody tr th:only-of-type {\n",
       "        vertical-align: middle;\n",
       "    }\n",
       "\n",
       "    .dataframe tbody tr th {\n",
       "        vertical-align: top;\n",
       "    }\n",
       "\n",
       "    .dataframe thead th {\n",
       "        text-align: right;\n",
       "    }\n",
       "</style>\n",
       "<table border=\"1\" class=\"dataframe\">\n",
       "  <thead>\n",
       "    <tr style=\"text-align: right;\">\n",
       "      <th></th>\n",
       "      <th>INFLATION RATE</th>\n",
       "    </tr>\n",
       "  </thead>\n",
       "  <tbody>\n",
       "    <tr>\n",
       "      <th>count</th>\n",
       "      <td>23.000000</td>\n",
       "    </tr>\n",
       "    <tr>\n",
       "      <th>mean</th>\n",
       "      <td>2.493215</td>\n",
       "    </tr>\n",
       "    <tr>\n",
       "      <th>std</th>\n",
       "      <td>1.664072</td>\n",
       "    </tr>\n",
       "    <tr>\n",
       "      <th>min</th>\n",
       "      <td>-0.355546</td>\n",
       "    </tr>\n",
       "    <tr>\n",
       "      <th>25%</th>\n",
       "      <td>1.604127</td>\n",
       "    </tr>\n",
       "    <tr>\n",
       "      <th>50%</th>\n",
       "      <td>2.270095</td>\n",
       "    </tr>\n",
       "    <tr>\n",
       "      <th>75%</th>\n",
       "      <td>3.191393</td>\n",
       "    </tr>\n",
       "    <tr>\n",
       "      <th>max</th>\n",
       "      <td>8.002800</td>\n",
       "    </tr>\n",
       "  </tbody>\n",
       "</table>\n",
       "</div>"
      ],
      "text/plain": [
       "       INFLATION RATE\n",
       "count       23.000000\n",
       "mean         2.493215\n",
       "std          1.664072\n",
       "min         -0.355546\n",
       "25%          1.604127\n",
       "50%          2.270095\n",
       "75%          3.191393\n",
       "max          8.002800"
      ]
     },
     "execution_count": 43,
     "metadata": {},
     "output_type": "execute_result"
    }
   ],
   "source": [
    "inflation_data.describe()"
   ]
  },
  {
   "cell_type": "code",
   "execution_count": 44,
   "metadata": {},
   "outputs": [
    {
     "name": "stdout",
     "output_type": "stream",
     "text": [
      "<class 'pandas.core.frame.DataFrame'>\n",
      "RangeIndex: 23 entries, 0 to 22\n",
      "Data columns (total 2 columns):\n",
      " #   Column          Non-Null Count  Dtype  \n",
      "---  ------          --------------  -----  \n",
      " 0   Date            23 non-null     object \n",
      " 1   INFLATION RATE  23 non-null     float64\n",
      "dtypes: float64(1), object(1)\n",
      "memory usage: 500.0+ bytes\n"
     ]
    }
   ],
   "source": [
    "inflation_data.info()"
   ]
  },
  {
   "cell_type": "code",
   "execution_count": 45,
   "metadata": {},
   "outputs": [
    {
     "data": {
      "text/plain": [
       "[<matplotlib.lines.Line2D at 0x17f5434dd10>]"
      ]
     },
     "execution_count": 45,
     "metadata": {},
     "output_type": "execute_result"
    },
    {
     "data": {
      "image/png": "[encoded data removed]",
      "text/plain": [
       "<Figure size 1000x600 with 1 Axes>"
      ]
     },
     "metadata": {},
     "output_type": "display_data"
    }
   ],
   "source": [
    "plt.figure(figsize=(10, 6))\n",
    "plt.title('Inflation rate')\n",
    "plt.xlabel('DATE')\n",
    "plt.ylabel('INFLATION RATE')\n",
    "plt.plot(inflation_data['Date'], inflation_data['INFLATION RATE'])\n"
   ]
  },
  {
   "cell_type": "markdown",
   "metadata": {},
   "source": [
    "## unemployment rate"
   ]
  },
  {
   "cell_type": "code",
   "execution_count": 46,
   "metadata": {},
   "outputs": [
    {
     "data": {
      "text/html": [
       "<div>\n",
       "<style scoped>\n",
       "    .dataframe tbody tr th:only-of-type {\n",
       "        vertical-align: middle;\n",
       "    }\n",
       "\n",
       "    .dataframe tbody tr th {\n",
       "        vertical-align: top;\n",
       "    }\n",
       "\n",
       "    .dataframe thead th {\n",
       "        text-align: right;\n",
       "    }\n",
       "</style>\n",
       "<table border=\"1\" class=\"dataframe\">\n",
       "  <thead>\n",
       "    <tr style=\"text-align: right;\">\n",
       "      <th></th>\n",
       "      <th>Date</th>\n",
       "      <th>UNRATE</th>\n",
       "    </tr>\n",
       "  </thead>\n",
       "  <tbody>\n",
       "    <tr>\n",
       "      <th>0</th>\n",
       "      <td>01/01/2000</td>\n",
       "      <td>4.0</td>\n",
       "    </tr>\n",
       "    <tr>\n",
       "      <th>1</th>\n",
       "      <td>01/02/2000</td>\n",
       "      <td>4.1</td>\n",
       "    </tr>\n",
       "    <tr>\n",
       "      <th>2</th>\n",
       "      <td>01/03/2000</td>\n",
       "      <td>4.0</td>\n",
       "    </tr>\n",
       "    <tr>\n",
       "      <th>3</th>\n",
       "      <td>01/04/2000</td>\n",
       "      <td>3.8</td>\n",
       "    </tr>\n",
       "    <tr>\n",
       "      <th>4</th>\n",
       "      <td>01/05/2000</td>\n",
       "      <td>4.0</td>\n",
       "    </tr>\n",
       "  </tbody>\n",
       "</table>\n",
       "</div>"
      ],
      "text/plain": [
       "         Date  UNRATE\n",
       "0  01/01/2000     4.0\n",
       "1  01/02/2000     4.1\n",
       "2  01/03/2000     4.0\n",
       "3  01/04/2000     3.8\n",
       "4  01/05/2000     4.0"
      ]
     },
     "execution_count": 46,
     "metadata": {},
     "output_type": "execute_result"
    }
   ],
   "source": [
    "unemployment_rate_data.head()"
   ]
  },
  {
   "cell_type": "code",
   "execution_count": 47,
   "metadata": {},
   "outputs": [
    {
     "data": {
      "text/html": [
       "<div>\n",
       "<style scoped>\n",
       "    .dataframe tbody tr th:only-of-type {\n",
       "        vertical-align: middle;\n",
       "    }\n",
       "\n",
       "    .dataframe tbody tr th {\n",
       "        vertical-align: top;\n",
       "    }\n",
       "\n",
       "    .dataframe thead th {\n",
       "        text-align: right;\n",
       "    }\n",
       "</style>\n",
       "<table border=\"1\" class=\"dataframe\">\n",
       "  <thead>\n",
       "    <tr style=\"text-align: right;\">\n",
       "      <th></th>\n",
       "      <th>Date</th>\n",
       "      <th>UNRATE</th>\n",
       "    </tr>\n",
       "  </thead>\n",
       "  <tbody>\n",
       "    <tr>\n",
       "      <th>271</th>\n",
       "      <td>01/08/2022</td>\n",
       "      <td>3.7</td>\n",
       "    </tr>\n",
       "    <tr>\n",
       "      <th>272</th>\n",
       "      <td>01/09/2022</td>\n",
       "      <td>3.5</td>\n",
       "    </tr>\n",
       "    <tr>\n",
       "      <th>273</th>\n",
       "      <td>01/10/2022</td>\n",
       "      <td>3.7</td>\n",
       "    </tr>\n",
       "    <tr>\n",
       "      <th>274</th>\n",
       "      <td>01/11/2022</td>\n",
       "      <td>3.6</td>\n",
       "    </tr>\n",
       "    <tr>\n",
       "      <th>275</th>\n",
       "      <td>01/12/2022</td>\n",
       "      <td>3.5</td>\n",
       "    </tr>\n",
       "  </tbody>\n",
       "</table>\n",
       "</div>"
      ],
      "text/plain": [
       "           Date  UNRATE\n",
       "271  01/08/2022     3.7\n",
       "272  01/09/2022     3.5\n",
       "273  01/10/2022     3.7\n",
       "274  01/11/2022     3.6\n",
       "275  01/12/2022     3.5"
      ]
     },
     "execution_count": 47,
     "metadata": {},
     "output_type": "execute_result"
    }
   ],
   "source": [
    "unemployment_rate_data.tail()"
   ]
  },
  {
   "cell_type": "code",
   "execution_count": 48,
   "metadata": {},
   "outputs": [
    {
     "name": "stdout",
     "output_type": "stream",
     "text": [
      "<class 'pandas.core.frame.DataFrame'>\n",
      "RangeIndex: 276 entries, 0 to 275\n",
      "Data columns (total 2 columns):\n",
      " #   Column  Non-Null Count  Dtype  \n",
      "---  ------  --------------  -----  \n",
      " 0   Date    276 non-null    object \n",
      " 1   UNRATE  276 non-null    float64\n",
      "dtypes: float64(1), object(1)\n",
      "memory usage: 4.4+ KB\n"
     ]
    }
   ],
   "source": [
    "unemployment_rate_data.info()"
   ]
  },
  {
   "cell_type": "code",
   "execution_count": 49,
   "metadata": {},
   "outputs": [
    {
     "data": {
      "text/html": [
       "<div>\n",
       "<style scoped>\n",
       "    .dataframe tbody tr th:only-of-type {\n",
       "        vertical-align: middle;\n",
       "    }\n",
       "\n",
       "    .dataframe tbody tr th {\n",
       "        vertical-align: top;\n",
       "    }\n",
       "\n",
       "    .dataframe thead th {\n",
       "        text-align: right;\n",
       "    }\n",
       "</style>\n",
       "<table border=\"1\" class=\"dataframe\">\n",
       "  <thead>\n",
       "    <tr style=\"text-align: right;\">\n",
       "      <th></th>\n",
       "      <th>UNRATE</th>\n",
       "    </tr>\n",
       "  </thead>\n",
       "  <tbody>\n",
       "    <tr>\n",
       "      <th>count</th>\n",
       "      <td>276.000000</td>\n",
       "    </tr>\n",
       "    <tr>\n",
       "      <th>mean</th>\n",
       "      <td>5.857971</td>\n",
       "    </tr>\n",
       "    <tr>\n",
       "      <th>std</th>\n",
       "      <td>1.959418</td>\n",
       "    </tr>\n",
       "    <tr>\n",
       "      <th>min</th>\n",
       "      <td>3.500000</td>\n",
       "    </tr>\n",
       "    <tr>\n",
       "      <th>25%</th>\n",
       "      <td>4.400000</td>\n",
       "    </tr>\n",
       "    <tr>\n",
       "      <th>50%</th>\n",
       "      <td>5.400000</td>\n",
       "    </tr>\n",
       "    <tr>\n",
       "      <th>75%</th>\n",
       "      <td>6.700000</td>\n",
       "    </tr>\n",
       "    <tr>\n",
       "      <th>max</th>\n",
       "      <td>14.700000</td>\n",
       "    </tr>\n",
       "  </tbody>\n",
       "</table>\n",
       "</div>"
      ],
      "text/plain": [
       "           UNRATE\n",
       "count  276.000000\n",
       "mean     5.857971\n",
       "std      1.959418\n",
       "min      3.500000\n",
       "25%      4.400000\n",
       "50%      5.400000\n",
       "75%      6.700000\n",
       "max     14.700000"
      ]
     },
     "execution_count": 49,
     "metadata": {},
     "output_type": "execute_result"
    }
   ],
   "source": [
    "unemployment_rate_data.describe()"
   ]
  },
  {
   "cell_type": "code",
   "execution_count": 50,
   "metadata": {},
   "outputs": [
    {
     "data": {
      "image/png": "[encoded data removed]",
      "text/plain": [
       "<Figure size 1000x600 with 1 Axes>"
      ]
     },
     "metadata": {},
     "output_type": "display_data"
    }
   ],
   "source": [
    "plt.figure(figsize=(10, 6))\n",
    "plt.title('EUR/USD Exchange Rate (Downsampled)')\n",
    "plt.xlabel('DATE')\n",
    "plt.ylabel('UNRAT')\n",
    "plt.plot(unemployment_rate_data['Date'], unemployment_rate_data['UNRATE'])\n",
    "plt.show()"
   ]
  },
  {
   "cell_type": "markdown",
   "metadata": {},
   "source": [
    "## brend oil"
   ]
  },
  {
   "cell_type": "code",
   "execution_count": 51,
   "metadata": {},
   "outputs": [
    {
     "data": {
      "text/html": [
       "<div>\n",
       "<style scoped>\n",
       "    .dataframe tbody tr th:only-of-type {\n",
       "        vertical-align: middle;\n",
       "    }\n",
       "\n",
       "    .dataframe tbody tr th {\n",
       "        vertical-align: top;\n",
       "    }\n",
       "\n",
       "    .dataframe thead th {\n",
       "        text-align: right;\n",
       "    }\n",
       "</style>\n",
       "<table border=\"1\" class=\"dataframe\">\n",
       "  <thead>\n",
       "    <tr style=\"text-align: right;\">\n",
       "      <th></th>\n",
       "      <th>Date</th>\n",
       "      <th>High</th>\n",
       "      <th>Low</th>\n",
       "      <th>Change %</th>\n",
       "    </tr>\n",
       "  </thead>\n",
       "  <tbody>\n",
       "    <tr>\n",
       "      <th>0</th>\n",
       "      <td>07/01/2019</td>\n",
       "      <td>66.75</td>\n",
       "      <td>64.22</td>\n",
       "      <td>-2.24%</td>\n",
       "    </tr>\n",
       "    <tr>\n",
       "      <th>1</th>\n",
       "      <td>6/28/2019</td>\n",
       "      <td>66.84</td>\n",
       "      <td>66.08</td>\n",
       "      <td>0.00%</td>\n",
       "    </tr>\n",
       "    <tr>\n",
       "      <th>2</th>\n",
       "      <td>6/27/2019</td>\n",
       "      <td>66.82</td>\n",
       "      <td>65.63</td>\n",
       "      <td>0.09%</td>\n",
       "    </tr>\n",
       "    <tr>\n",
       "      <th>3</th>\n",
       "      <td>6/26/2019</td>\n",
       "      <td>66.85</td>\n",
       "      <td>65.60</td>\n",
       "      <td>2.21%</td>\n",
       "    </tr>\n",
       "    <tr>\n",
       "      <th>4</th>\n",
       "      <td>6/25/2019</td>\n",
       "      <td>65.98</td>\n",
       "      <td>64.17</td>\n",
       "      <td>0.29%</td>\n",
       "    </tr>\n",
       "  </tbody>\n",
       "</table>\n",
       "</div>"
      ],
      "text/plain": [
       "         Date   High    Low Change %\n",
       "0  07/01/2019  66.75  64.22   -2.24%\n",
       "1   6/28/2019  66.84  66.08    0.00%\n",
       "2   6/27/2019  66.82  65.63    0.09%\n",
       "3   6/26/2019  66.85  65.60    2.21%\n",
       "4   6/25/2019  65.98  64.17    0.29%"
      ]
     },
     "execution_count": 51,
     "metadata": {},
     "output_type": "execute_result"
    }
   ],
   "source": [
    "brend_oil_data.head()"
   ]
  },
  {
   "cell_type": "code",
   "execution_count": 52,
   "metadata": {},
   "outputs": [
    {
     "data": {
      "text/html": [
       "<div>\n",
       "<style scoped>\n",
       "    .dataframe tbody tr th:only-of-type {\n",
       "        vertical-align: middle;\n",
       "    }\n",
       "\n",
       "    .dataframe tbody tr th {\n",
       "        vertical-align: top;\n",
       "    }\n",
       "\n",
       "    .dataframe thead th {\n",
       "        text-align: right;\n",
       "    }\n",
       "</style>\n",
       "<table border=\"1\" class=\"dataframe\">\n",
       "  <thead>\n",
       "    <tr style=\"text-align: right;\">\n",
       "      <th></th>\n",
       "      <th>Date</th>\n",
       "      <th>High</th>\n",
       "      <th>Low</th>\n",
       "      <th>Change %</th>\n",
       "    </tr>\n",
       "  </thead>\n",
       "  <tbody>\n",
       "    <tr>\n",
       "      <th>4995</th>\n",
       "      <td>01/10/2000</td>\n",
       "      <td>23.78</td>\n",
       "      <td>23.04</td>\n",
       "      <td>2.77%</td>\n",
       "    </tr>\n",
       "    <tr>\n",
       "      <th>4996</th>\n",
       "      <td>01/07/2000</td>\n",
       "      <td>23.98</td>\n",
       "      <td>23.05</td>\n",
       "      <td>-2.24%</td>\n",
       "    </tr>\n",
       "    <tr>\n",
       "      <th>4997</th>\n",
       "      <td>01/06/2000</td>\n",
       "      <td>24.22</td>\n",
       "      <td>23.35</td>\n",
       "      <td>-0.46%</td>\n",
       "    </tr>\n",
       "    <tr>\n",
       "      <th>4998</th>\n",
       "      <td>01/05/2000</td>\n",
       "      <td>24.37</td>\n",
       "      <td>23.70</td>\n",
       "      <td>-2.71%</td>\n",
       "    </tr>\n",
       "    <tr>\n",
       "      <th>4999</th>\n",
       "      <td>01/04/2000</td>\n",
       "      <td>24.70</td>\n",
       "      <td>23.89</td>\n",
       "      <td>-2.75%</td>\n",
       "    </tr>\n",
       "  </tbody>\n",
       "</table>\n",
       "</div>"
      ],
      "text/plain": [
       "            Date   High    Low Change %\n",
       "4995  01/10/2000  23.78  23.04    2.77%\n",
       "4996  01/07/2000  23.98  23.05   -2.24%\n",
       "4997  01/06/2000  24.22  23.35   -0.46%\n",
       "4998  01/05/2000  24.37  23.70   -2.71%\n",
       "4999  01/04/2000  24.70  23.89   -2.75%"
      ]
     },
     "execution_count": 52,
     "metadata": {},
     "output_type": "execute_result"
    }
   ],
   "source": [
    "brend_oil_data.tail()"
   ]
  },
  {
   "cell_type": "code",
   "execution_count": 53,
   "metadata": {},
   "outputs": [
    {
     "name": "stdout",
     "output_type": "stream",
     "text": [
      "<class 'pandas.core.frame.DataFrame'>\n",
      "RangeIndex: 5000 entries, 0 to 4999\n",
      "Data columns (total 4 columns):\n",
      " #   Column    Non-Null Count  Dtype  \n",
      "---  ------    --------------  -----  \n",
      " 0   Date      5000 non-null   object \n",
      " 1   High      5000 non-null   float64\n",
      " 2   Low       5000 non-null   float64\n",
      " 3   Change %  5000 non-null   object \n",
      "dtypes: float64(2), object(2)\n",
      "memory usage: 156.4+ KB\n"
     ]
    }
   ],
   "source": [
    "brend_oil_data.info()"
   ]
  },
  {
   "cell_type": "code",
   "execution_count": 54,
   "metadata": {},
   "outputs": [
    {
     "data": {
      "image/png": "[encoded data removed]",
      "text/plain": [
       "<Figure size 1000x600 with 1 Axes>"
      ]
     },
     "metadata": {},
     "output_type": "display_data"
    }
   ],
   "source": [
    "\n",
    "mean_price_brend_oil = brend_oil_data[['High', 'Low']].mean(axis=1)\n",
    "\n",
    "\n",
    "plt.figure(figsize=(10, 6))\n",
    "plt.title('EUR/USD Exchange Rate (Downsampled)')\n",
    "plt.xlabel('Date')\n",
    "plt.ylabel('mean price brend oil')\n",
    "plt.plot(brend_oil_data['Date'], mean_price_brend_oil)\n",
    "plt.show()"
   ]
  },
  {
   "cell_type": "markdown",
   "metadata": {},
   "source": [
    "## euro usd"
   ]
  },
  {
   "cell_type": "code",
   "execution_count": 55,
   "metadata": {},
   "outputs": [
    {
     "data": {
      "text/html": [
       "<div>\n",
       "<style scoped>\n",
       "    .dataframe tbody tr th:only-of-type {\n",
       "        vertical-align: middle;\n",
       "    }\n",
       "\n",
       "    .dataframe tbody tr th {\n",
       "        vertical-align: top;\n",
       "    }\n",
       "\n",
       "    .dataframe thead th {\n",
       "        text-align: right;\n",
       "    }\n",
       "</style>\n",
       "<table border=\"1\" class=\"dataframe\">\n",
       "  <thead>\n",
       "    <tr style=\"text-align: right;\">\n",
       "      <th></th>\n",
       "      <th>Date</th>\n",
       "      <th>Price</th>\n",
       "      <th>Open</th>\n",
       "      <th>High</th>\n",
       "      <th>Low</th>\n",
       "      <th>Vol.</th>\n",
       "      <th>Change %</th>\n",
       "    </tr>\n",
       "  </thead>\n",
       "  <tbody>\n",
       "    <tr>\n",
       "      <th>0</th>\n",
       "      <td>03/01/2019</td>\n",
       "      <td>1.1377</td>\n",
       "      <td>1.1372</td>\n",
       "      <td>1.1410</td>\n",
       "      <td>1.1353</td>\n",
       "      <td>NaN</td>\n",
       "      <td>0.05%</td>\n",
       "    </tr>\n",
       "    <tr>\n",
       "      <th>1</th>\n",
       "      <td>02/28/2019</td>\n",
       "      <td>1.1371</td>\n",
       "      <td>1.1371</td>\n",
       "      <td>1.1421</td>\n",
       "      <td>1.1357</td>\n",
       "      <td>NaN</td>\n",
       "      <td>0.02%</td>\n",
       "    </tr>\n",
       "    <tr>\n",
       "      <th>2</th>\n",
       "      <td>02/27/2019</td>\n",
       "      <td>1.1369</td>\n",
       "      <td>1.1396</td>\n",
       "      <td>1.1404</td>\n",
       "      <td>1.1360</td>\n",
       "      <td>NaN</td>\n",
       "      <td>-0.16%</td>\n",
       "    </tr>\n",
       "    <tr>\n",
       "      <th>3</th>\n",
       "      <td>02/26/2019</td>\n",
       "      <td>1.1387</td>\n",
       "      <td>1.1366</td>\n",
       "      <td>1.1404</td>\n",
       "      <td>1.1343</td>\n",
       "      <td>NaN</td>\n",
       "      <td>0.25%</td>\n",
       "    </tr>\n",
       "    <tr>\n",
       "      <th>4</th>\n",
       "      <td>02/25/2019</td>\n",
       "      <td>1.1359</td>\n",
       "      <td>1.1338</td>\n",
       "      <td>1.1369</td>\n",
       "      <td>1.1323</td>\n",
       "      <td>NaN</td>\n",
       "      <td>0.14%</td>\n",
       "    </tr>\n",
       "  </tbody>\n",
       "</table>\n",
       "</div>"
      ],
      "text/plain": [
       "         Date   Price    Open    High     Low  Vol. Change %\n",
       "0  03/01/2019  1.1377  1.1372  1.1410  1.1353   NaN    0.05%\n",
       "1  02/28/2019  1.1371  1.1371  1.1421  1.1357   NaN    0.02%\n",
       "2  02/27/2019  1.1369  1.1396  1.1404  1.1360   NaN   -0.16%\n",
       "3  02/26/2019  1.1387  1.1366  1.1404  1.1343   NaN    0.25%\n",
       "4  02/25/2019  1.1359  1.1338  1.1369  1.1323   NaN    0.14%"
      ]
     },
     "execution_count": 55,
     "metadata": {},
     "output_type": "execute_result"
    }
   ],
   "source": [
    "euro_usd_data.head()"
   ]
  },
  {
   "cell_type": "code",
   "execution_count": 56,
   "metadata": {},
   "outputs": [
    {
     "data": {
      "text/html": [
       "<div>\n",
       "<style scoped>\n",
       "    .dataframe tbody tr th:only-of-type {\n",
       "        vertical-align: middle;\n",
       "    }\n",
       "\n",
       "    .dataframe tbody tr th {\n",
       "        vertical-align: top;\n",
       "    }\n",
       "\n",
       "    .dataframe thead th {\n",
       "        text-align: right;\n",
       "    }\n",
       "</style>\n",
       "<table border=\"1\" class=\"dataframe\">\n",
       "  <thead>\n",
       "    <tr style=\"text-align: right;\">\n",
       "      <th></th>\n",
       "      <th>Date</th>\n",
       "      <th>Price</th>\n",
       "      <th>Open</th>\n",
       "      <th>High</th>\n",
       "      <th>Low</th>\n",
       "      <th>Vol.</th>\n",
       "      <th>Change %</th>\n",
       "    </tr>\n",
       "  </thead>\n",
       "  <tbody>\n",
       "    <tr>\n",
       "      <th>4995</th>\n",
       "      <td>01/07/2000</td>\n",
       "      <td>1.0292</td>\n",
       "      <td>1.0327</td>\n",
       "      <td>1.0333</td>\n",
       "      <td>1.0252</td>\n",
       "      <td>NaN</td>\n",
       "      <td>-0.31%</td>\n",
       "    </tr>\n",
       "    <tr>\n",
       "      <th>4996</th>\n",
       "      <td>01/06/2000</td>\n",
       "      <td>1.0324</td>\n",
       "      <td>1.0325</td>\n",
       "      <td>1.0419</td>\n",
       "      <td>1.0275</td>\n",
       "      <td>NaN</td>\n",
       "      <td>0.08%</td>\n",
       "    </tr>\n",
       "    <tr>\n",
       "      <th>4997</th>\n",
       "      <td>01/05/2000</td>\n",
       "      <td>1.0316</td>\n",
       "      <td>1.0295</td>\n",
       "      <td>1.0404</td>\n",
       "      <td>1.0282</td>\n",
       "      <td>NaN</td>\n",
       "      <td>0.04%</td>\n",
       "    </tr>\n",
       "    <tr>\n",
       "      <th>4998</th>\n",
       "      <td>01/04/2000</td>\n",
       "      <td>1.0312</td>\n",
       "      <td>1.0244</td>\n",
       "      <td>1.0347</td>\n",
       "      <td>1.0213</td>\n",
       "      <td>NaN</td>\n",
       "      <td>0.46%</td>\n",
       "    </tr>\n",
       "    <tr>\n",
       "      <th>4999</th>\n",
       "      <td>01/03/2000</td>\n",
       "      <td>1.0265</td>\n",
       "      <td>1.0052</td>\n",
       "      <td>1.0282</td>\n",
       "      <td>1.0050</td>\n",
       "      <td>NaN</td>\n",
       "      <td>1.89%</td>\n",
       "    </tr>\n",
       "  </tbody>\n",
       "</table>\n",
       "</div>"
      ],
      "text/plain": [
       "            Date   Price    Open    High     Low  Vol. Change %\n",
       "4995  01/07/2000  1.0292  1.0327  1.0333  1.0252   NaN   -0.31%\n",
       "4996  01/06/2000  1.0324  1.0325  1.0419  1.0275   NaN    0.08%\n",
       "4997  01/05/2000  1.0316  1.0295  1.0404  1.0282   NaN    0.04%\n",
       "4998  01/04/2000  1.0312  1.0244  1.0347  1.0213   NaN    0.46%\n",
       "4999  01/03/2000  1.0265  1.0052  1.0282  1.0050   NaN    1.89%"
      ]
     },
     "execution_count": 56,
     "metadata": {},
     "output_type": "execute_result"
    }
   ],
   "source": [
    "euro_usd_data.tail()"
   ]
  },
  {
   "cell_type": "code",
   "execution_count": 57,
   "metadata": {},
   "outputs": [
    {
     "name": "stdout",
     "output_type": "stream",
     "text": [
      "<class 'pandas.core.frame.DataFrame'>\n",
      "RangeIndex: 5000 entries, 0 to 4999\n",
      "Data columns (total 7 columns):\n",
      " #   Column    Non-Null Count  Dtype  \n",
      "---  ------    --------------  -----  \n",
      " 0   Date      5000 non-null   object \n",
      " 1   Price     5000 non-null   float64\n",
      " 2   Open      5000 non-null   float64\n",
      " 3   High      5000 non-null   float64\n",
      " 4   Low       5000 non-null   float64\n",
      " 5   Vol.      0 non-null      float64\n",
      " 6   Change %  5000 non-null   object \n",
      "dtypes: float64(5), object(2)\n",
      "memory usage: 273.6+ KB\n"
     ]
    }
   ],
   "source": [
    "euro_usd_data.info()"
   ]
  },
  {
   "cell_type": "code",
   "execution_count": 58,
   "metadata": {},
   "outputs": [
    {
     "data": {
      "image/png": "[encoded data removed]",
      "text/plain": [
       "<Figure size 1000x600 with 1 Axes>"
      ]
     },
     "metadata": {},
     "output_type": "display_data"
    }
   ],
   "source": [
    "\n",
    "mean_euro_usd_data = euro_usd_data[['High', 'Low']].mean(axis=1)\n",
    "\n",
    "\n",
    "plt.figure(figsize=(10, 6))\n",
    "plt.title('EUR/USD Exchange Rate (Downsampled)')\n",
    "plt.xlabel('Date')\n",
    "plt.ylabel('mean euro to usd ')\n",
    "plt.plot(euro_usd_data['Date'], mean_euro_usd_data)\n",
    "plt.show()"
   ]
  },
  {
   "cell_type": "markdown",
   "metadata": {},
   "source": [
    "# data processing"
   ]
  },
  {
   "cell_type": "markdown",
   "metadata": {},
   "source": [
    "## infaltion rate\n"
   ]
  },
  {
   "cell_type": "code",
   "execution_count": 59,
   "metadata": {},
   "outputs": [],
   "source": [
    "#Shoule execute one time\n",
    "# Convert the 'DATE' column to a datetime data type with the 'm/d/y' format\n",
    "inflation_data['Date'] = pd.to_datetime(inflation_data['Date'], format='%m/%d/%Y')\n",
    "\n",
    "# Set the 'DATE' column as the DataFrame index\n",
    "inflation_data.set_index('Date', inplace=True)\n",
    "\n",
    "# Create a date range from the start date (01/01/2000) to the end date (12/31/2022)\n",
    "date_range = pd.date_range(start='01/01/2000', end='12/31/2022', freq='D')\n",
    "\n",
    "# Reindex the DataFrame with the date range and fill missing values with forward fill\n",
    "inflation_data = inflation_data.reindex(date_range, method='ffill')\n",
    "\n",
    "# Reset the index to make the 'DATE' a regular column\n",
    "inflation_data.reset_index(inplace=True)\n",
    "\n",
    "# rename the index column\n",
    "inflation_data.rename(columns={'index': 'Date'}, inplace=True)"
   ]
  },
  {
   "cell_type": "code",
   "execution_count": 60,
   "metadata": {},
   "outputs": [
    {
     "data": {
      "text/html": [
       "<div>\n",
       "<style scoped>\n",
       "    .dataframe tbody tr th:only-of-type {\n",
       "        vertical-align: middle;\n",
       "    }\n",
       "\n",
       "    .dataframe tbody tr th {\n",
       "        vertical-align: top;\n",
       "    }\n",
       "\n",
       "    .dataframe thead th {\n",
       "        text-align: right;\n",
       "    }\n",
       "</style>\n",
       "<table border=\"1\" class=\"dataframe\">\n",
       "  <thead>\n",
       "    <tr style=\"text-align: right;\">\n",
       "      <th></th>\n",
       "      <th>Date</th>\n",
       "      <th>INFLATION RATE</th>\n",
       "    </tr>\n",
       "  </thead>\n",
       "  <tbody>\n",
       "    <tr>\n",
       "      <th>0</th>\n",
       "      <td>2000-01-01</td>\n",
       "      <td>3.376857</td>\n",
       "    </tr>\n",
       "    <tr>\n",
       "      <th>1</th>\n",
       "      <td>2000-01-02</td>\n",
       "      <td>3.376857</td>\n",
       "    </tr>\n",
       "    <tr>\n",
       "      <th>2</th>\n",
       "      <td>2000-01-03</td>\n",
       "      <td>3.376857</td>\n",
       "    </tr>\n",
       "    <tr>\n",
       "      <th>3</th>\n",
       "      <td>2000-01-04</td>\n",
       "      <td>3.376857</td>\n",
       "    </tr>\n",
       "    <tr>\n",
       "      <th>4</th>\n",
       "      <td>2000-01-05</td>\n",
       "      <td>3.376857</td>\n",
       "    </tr>\n",
       "    <tr>\n",
       "      <th>...</th>\n",
       "      <td>...</td>\n",
       "      <td>...</td>\n",
       "    </tr>\n",
       "    <tr>\n",
       "      <th>8396</th>\n",
       "      <td>2022-12-27</td>\n",
       "      <td>8.002800</td>\n",
       "    </tr>\n",
       "    <tr>\n",
       "      <th>8397</th>\n",
       "      <td>2022-12-28</td>\n",
       "      <td>8.002800</td>\n",
       "    </tr>\n",
       "    <tr>\n",
       "      <th>8398</th>\n",
       "      <td>2022-12-29</td>\n",
       "      <td>8.002800</td>\n",
       "    </tr>\n",
       "    <tr>\n",
       "      <th>8399</th>\n",
       "      <td>2022-12-30</td>\n",
       "      <td>8.002800</td>\n",
       "    </tr>\n",
       "    <tr>\n",
       "      <th>8400</th>\n",
       "      <td>2022-12-31</td>\n",
       "      <td>8.002800</td>\n",
       "    </tr>\n",
       "  </tbody>\n",
       "</table>\n",
       "<p>8401 rows × 2 columns</p>\n",
       "</div>"
      ],
      "text/plain": [
       "           Date  INFLATION RATE\n",
       "0    2000-01-01        3.376857\n",
       "1    2000-01-02        3.376857\n",
       "2    2000-01-03        3.376857\n",
       "3    2000-01-04        3.376857\n",
       "4    2000-01-05        3.376857\n",
       "...         ...             ...\n",
       "8396 2022-12-27        8.002800\n",
       "8397 2022-12-28        8.002800\n",
       "8398 2022-12-29        8.002800\n",
       "8399 2022-12-30        8.002800\n",
       "8400 2022-12-31        8.002800\n",
       "\n",
       "[8401 rows x 2 columns]"
      ]
     },
     "execution_count": 60,
     "metadata": {},
     "output_type": "execute_result"
    }
   ],
   "source": [
    "inflation_data"
   ]
  },
  {
   "cell_type": "markdown",
   "metadata": {},
   "source": [
    "## unemployment rate"
   ]
  },
  {
   "cell_type": "code",
   "execution_count": 61,
   "metadata": {},
   "outputs": [],
   "source": [
    "unemployment_rate_data['Date'] = pd.to_datetime(unemployment_rate_data['Date'], format='%d/%m/%Y')\n",
    "unemployment_rate_data.set_index('Date', inplace=True)\n",
    "\n",
    "date_range = pd.date_range(start='01/01/2000', end='12/31/2022', freq='D')\n",
    "\n",
    "# Reindex the DataFrame with the date range and fill missing values with forward fill\n",
    "unemployment_rate_data = unemployment_rate_data.reindex(date_range, method='ffill')\n",
    "\n",
    "# Reset the index to make the 'DATE' a regular column\n",
    "unemployment_rate_data.reset_index(inplace=True)\n",
    "\n",
    "# rename the index column\n",
    "unemployment_rate_data.rename(columns={'index': 'Date'}, inplace=True)\n",
    "\n",
    "\n"
   ]
  },
  {
   "cell_type": "code",
   "execution_count": 62,
   "metadata": {},
   "outputs": [
    {
     "data": {
      "text/html": [
       "<div>\n",
       "<style scoped>\n",
       "    .dataframe tbody tr th:only-of-type {\n",
       "        vertical-align: middle;\n",
       "    }\n",
       "\n",
       "    .dataframe tbody tr th {\n",
       "        vertical-align: top;\n",
       "    }\n",
       "\n",
       "    .dataframe thead th {\n",
       "        text-align: right;\n",
       "    }\n",
       "</style>\n",
       "<table border=\"1\" class=\"dataframe\">\n",
       "  <thead>\n",
       "    <tr style=\"text-align: right;\">\n",
       "      <th></th>\n",
       "      <th>Date</th>\n",
       "      <th>UNRATE</th>\n",
       "    </tr>\n",
       "  </thead>\n",
       "  <tbody>\n",
       "    <tr>\n",
       "      <th>0</th>\n",
       "      <td>2000-01-01</td>\n",
       "      <td>4.0</td>\n",
       "    </tr>\n",
       "    <tr>\n",
       "      <th>1</th>\n",
       "      <td>2000-01-02</td>\n",
       "      <td>4.0</td>\n",
       "    </tr>\n",
       "    <tr>\n",
       "      <th>2</th>\n",
       "      <td>2000-01-03</td>\n",
       "      <td>4.0</td>\n",
       "    </tr>\n",
       "    <tr>\n",
       "      <th>3</th>\n",
       "      <td>2000-01-04</td>\n",
       "      <td>4.0</td>\n",
       "    </tr>\n",
       "    <tr>\n",
       "      <th>4</th>\n",
       "      <td>2000-01-05</td>\n",
       "      <td>4.0</td>\n",
       "    </tr>\n",
       "    <tr>\n",
       "      <th>...</th>\n",
       "      <td>...</td>\n",
       "      <td>...</td>\n",
       "    </tr>\n",
       "    <tr>\n",
       "      <th>8396</th>\n",
       "      <td>2022-12-27</td>\n",
       "      <td>3.5</td>\n",
       "    </tr>\n",
       "    <tr>\n",
       "      <th>8397</th>\n",
       "      <td>2022-12-28</td>\n",
       "      <td>3.5</td>\n",
       "    </tr>\n",
       "    <tr>\n",
       "      <th>8398</th>\n",
       "      <td>2022-12-29</td>\n",
       "      <td>3.5</td>\n",
       "    </tr>\n",
       "    <tr>\n",
       "      <th>8399</th>\n",
       "      <td>2022-12-30</td>\n",
       "      <td>3.5</td>\n",
       "    </tr>\n",
       "    <tr>\n",
       "      <th>8400</th>\n",
       "      <td>2022-12-31</td>\n",
       "      <td>3.5</td>\n",
       "    </tr>\n",
       "  </tbody>\n",
       "</table>\n",
       "<p>8401 rows × 2 columns</p>\n",
       "</div>"
      ],
      "text/plain": [
       "           Date  UNRATE\n",
       "0    2000-01-01     4.0\n",
       "1    2000-01-02     4.0\n",
       "2    2000-01-03     4.0\n",
       "3    2000-01-04     4.0\n",
       "4    2000-01-05     4.0\n",
       "...         ...     ...\n",
       "8396 2022-12-27     3.5\n",
       "8397 2022-12-28     3.5\n",
       "8398 2022-12-29     3.5\n",
       "8399 2022-12-30     3.5\n",
       "8400 2022-12-31     3.5\n",
       "\n",
       "[8401 rows x 2 columns]"
      ]
     },
     "execution_count": 62,
     "metadata": {},
     "output_type": "execute_result"
    }
   ],
   "source": [
    "unemployment_rate_data"
   ]
  },
  {
   "cell_type": "markdown",
   "metadata": {},
   "source": [
    "## Gold\n",
    "\n"
   ]
  },
  {
   "cell_type": "code",
   "execution_count": 63,
   "metadata": {},
   "outputs": [],
   "source": [
    "## tranform that date\n",
    "gold_data['Date'] = pd.to_datetime(gold_data['Date'], format='%m/%d/%Y')\n",
    "## remove the current column \n",
    "\n",
    "gold_data['Mean_Price_Gold'] = (gold_data['High'] + gold_data['Low']) / 2\n",
    "\n",
    "gold_data.drop(columns=['Currency'], inplace=True)\n",
    "gold_data.drop(columns=['High'], inplace=True)\n",
    "gold_data.drop(columns=['Low'], inplace=True)"
   ]
  },
  {
   "cell_type": "code",
   "execution_count": 64,
   "metadata": {},
   "outputs": [
    {
     "data": {
      "text/html": [
       "<div>\n",
       "<style scoped>\n",
       "    .dataframe tbody tr th:only-of-type {\n",
       "        vertical-align: middle;\n",
       "    }\n",
       "\n",
       "    .dataframe tbody tr th {\n",
       "        vertical-align: top;\n",
       "    }\n",
       "\n",
       "    .dataframe thead th {\n",
       "        text-align: right;\n",
       "    }\n",
       "</style>\n",
       "<table border=\"1\" class=\"dataframe\">\n",
       "  <thead>\n",
       "    <tr style=\"text-align: right;\">\n",
       "      <th></th>\n",
       "      <th>Date</th>\n",
       "      <th>Mean_Price_Gold</th>\n",
       "    </tr>\n",
       "  </thead>\n",
       "  <tbody>\n",
       "    <tr>\n",
       "      <th>0</th>\n",
       "      <td>2000-01-04</td>\n",
       "      <td>284.75</td>\n",
       "    </tr>\n",
       "    <tr>\n",
       "      <th>1</th>\n",
       "      <td>2000-01-05</td>\n",
       "      <td>283.00</td>\n",
       "    </tr>\n",
       "    <tr>\n",
       "      <th>2</th>\n",
       "      <td>2000-01-06</td>\n",
       "      <td>281.50</td>\n",
       "    </tr>\n",
       "    <tr>\n",
       "      <th>3</th>\n",
       "      <td>2000-01-07</td>\n",
       "      <td>283.25</td>\n",
       "    </tr>\n",
       "    <tr>\n",
       "      <th>4</th>\n",
       "      <td>2000-01-10</td>\n",
       "      <td>282.85</td>\n",
       "    </tr>\n",
       "    <tr>\n",
       "      <th>...</th>\n",
       "      <td>...</td>\n",
       "      <td>...</td>\n",
       "    </tr>\n",
       "    <tr>\n",
       "      <th>5698</th>\n",
       "      <td>2022-08-29</td>\n",
       "      <td>1744.65</td>\n",
       "    </tr>\n",
       "    <tr>\n",
       "      <th>5699</th>\n",
       "      <td>2022-08-30</td>\n",
       "      <td>1742.85</td>\n",
       "    </tr>\n",
       "    <tr>\n",
       "      <th>5700</th>\n",
       "      <td>2022-08-31</td>\n",
       "      <td>1729.30</td>\n",
       "    </tr>\n",
       "    <tr>\n",
       "      <th>5701</th>\n",
       "      <td>2022-09-01</td>\n",
       "      <td>1711.05</td>\n",
       "    </tr>\n",
       "    <tr>\n",
       "      <th>5702</th>\n",
       "      <td>2022-09-02</td>\n",
       "      <td>1718.25</td>\n",
       "    </tr>\n",
       "  </tbody>\n",
       "</table>\n",
       "<p>5703 rows × 2 columns</p>\n",
       "</div>"
      ],
      "text/plain": [
       "           Date  Mean_Price_Gold\n",
       "0    2000-01-04           284.75\n",
       "1    2000-01-05           283.00\n",
       "2    2000-01-06           281.50\n",
       "3    2000-01-07           283.25\n",
       "4    2000-01-10           282.85\n",
       "...         ...              ...\n",
       "5698 2022-08-29          1744.65\n",
       "5699 2022-08-30          1742.85\n",
       "5700 2022-08-31          1729.30\n",
       "5701 2022-09-01          1711.05\n",
       "5702 2022-09-02          1718.25\n",
       "\n",
       "[5703 rows x 2 columns]"
      ]
     },
     "execution_count": 64,
     "metadata": {},
     "output_type": "execute_result"
    }
   ],
   "source": [
    "gold_data"
   ]
  },
  {
   "cell_type": "markdown",
   "metadata": {},
   "source": [
    "## brend_oil_data"
   ]
  },
  {
   "cell_type": "code",
   "execution_count": 65,
   "metadata": {},
   "outputs": [],
   "source": [
    "brend_oil_data['Date'] = pd.to_datetime(brend_oil_data['Date'], format='%m/%d/%Y')\n",
    "\n",
    "brend_oil_data['Mean_Price_Brend_oil'] = (brend_oil_data['High'] + brend_oil_data['Low']) / 2\n",
    "\n",
    "brend_oil_data.drop(columns=['Change %'], inplace=True)\n",
    "brend_oil_data.drop(columns=['High'], inplace=True)\n",
    "brend_oil_data.drop(columns=['Low'], inplace=True)\n"
   ]
  },
  {
   "cell_type": "code",
   "execution_count": 66,
   "metadata": {},
   "outputs": [
    {
     "data": {
      "text/html": [
       "<div>\n",
       "<style scoped>\n",
       "    .dataframe tbody tr th:only-of-type {\n",
       "        vertical-align: middle;\n",
       "    }\n",
       "\n",
       "    .dataframe tbody tr th {\n",
       "        vertical-align: top;\n",
       "    }\n",
       "\n",
       "    .dataframe thead th {\n",
       "        text-align: right;\n",
       "    }\n",
       "</style>\n",
       "<table border=\"1\" class=\"dataframe\">\n",
       "  <thead>\n",
       "    <tr style=\"text-align: right;\">\n",
       "      <th></th>\n",
       "      <th>Date</th>\n",
       "      <th>Mean_Price_Brend_oil</th>\n",
       "    </tr>\n",
       "  </thead>\n",
       "  <tbody>\n",
       "    <tr>\n",
       "      <th>0</th>\n",
       "      <td>2019-07-01</td>\n",
       "      <td>65.485</td>\n",
       "    </tr>\n",
       "    <tr>\n",
       "      <th>1</th>\n",
       "      <td>2019-06-28</td>\n",
       "      <td>66.460</td>\n",
       "    </tr>\n",
       "    <tr>\n",
       "      <th>2</th>\n",
       "      <td>2019-06-27</td>\n",
       "      <td>66.225</td>\n",
       "    </tr>\n",
       "    <tr>\n",
       "      <th>3</th>\n",
       "      <td>2019-06-26</td>\n",
       "      <td>66.225</td>\n",
       "    </tr>\n",
       "    <tr>\n",
       "      <th>4</th>\n",
       "      <td>2019-06-25</td>\n",
       "      <td>65.075</td>\n",
       "    </tr>\n",
       "    <tr>\n",
       "      <th>...</th>\n",
       "      <td>...</td>\n",
       "      <td>...</td>\n",
       "    </tr>\n",
       "    <tr>\n",
       "      <th>4995</th>\n",
       "      <td>2000-01-10</td>\n",
       "      <td>23.410</td>\n",
       "    </tr>\n",
       "    <tr>\n",
       "      <th>4996</th>\n",
       "      <td>2000-01-07</td>\n",
       "      <td>23.515</td>\n",
       "    </tr>\n",
       "    <tr>\n",
       "      <th>4997</th>\n",
       "      <td>2000-01-06</td>\n",
       "      <td>23.785</td>\n",
       "    </tr>\n",
       "    <tr>\n",
       "      <th>4998</th>\n",
       "      <td>2000-01-05</td>\n",
       "      <td>24.035</td>\n",
       "    </tr>\n",
       "    <tr>\n",
       "      <th>4999</th>\n",
       "      <td>2000-01-04</td>\n",
       "      <td>24.295</td>\n",
       "    </tr>\n",
       "  </tbody>\n",
       "</table>\n",
       "<p>5000 rows × 2 columns</p>\n",
       "</div>"
      ],
      "text/plain": [
       "           Date  Mean_Price_Brend_oil\n",
       "0    2019-07-01                65.485\n",
       "1    2019-06-28                66.460\n",
       "2    2019-06-27                66.225\n",
       "3    2019-06-26                66.225\n",
       "4    2019-06-25                65.075\n",
       "...         ...                   ...\n",
       "4995 2000-01-10                23.410\n",
       "4996 2000-01-07                23.515\n",
       "4997 2000-01-06                23.785\n",
       "4998 2000-01-05                24.035\n",
       "4999 2000-01-04                24.295\n",
       "\n",
       "[5000 rows x 2 columns]"
      ]
     },
     "execution_count": 66,
     "metadata": {},
     "output_type": "execute_result"
    }
   ],
   "source": [
    "brend_oil_data"
   ]
  },
  {
   "cell_type": "markdown",
   "metadata": {},
   "source": [
    "## euro usd"
   ]
  },
  {
   "cell_type": "code",
   "execution_count": 67,
   "metadata": {},
   "outputs": [],
   "source": [
    "euro_usd_data['Date'] = pd.to_datetime(brend_oil_data['Date'], format='%m/%d/%Y')\n",
    "euro_usd_data.drop(columns=['Open'], inplace=True)\n",
    "euro_usd_data.drop(columns=['High'], inplace=True)\n",
    "euro_usd_data.drop(columns=['Low'], inplace=True)\n",
    "euro_usd_data.drop(columns=['Vol.'], inplace=True)\n",
    "euro_usd_data.drop(columns=['Change %'], inplace=True)\n",
    "euro_usd_data.rename(columns={'Price': 'Price of dollar'}, inplace=True)\n",
    "\n",
    "\n"
   ]
  },
  {
   "cell_type": "code",
   "execution_count": 68,
   "metadata": {},
   "outputs": [
    {
     "data": {
      "text/html": [
       "<div>\n",
       "<style scoped>\n",
       "    .dataframe tbody tr th:only-of-type {\n",
       "        vertical-align: middle;\n",
       "    }\n",
       "\n",
       "    .dataframe tbody tr th {\n",
       "        vertical-align: top;\n",
       "    }\n",
       "\n",
       "    .dataframe thead th {\n",
       "        text-align: right;\n",
       "    }\n",
       "</style>\n",
       "<table border=\"1\" class=\"dataframe\">\n",
       "  <thead>\n",
       "    <tr style=\"text-align: right;\">\n",
       "      <th></th>\n",
       "      <th>Date</th>\n",
       "      <th>Price of dollar</th>\n",
       "    </tr>\n",
       "  </thead>\n",
       "  <tbody>\n",
       "    <tr>\n",
       "      <th>0</th>\n",
       "      <td>2019-07-01</td>\n",
       "      <td>1.1377</td>\n",
       "    </tr>\n",
       "    <tr>\n",
       "      <th>1</th>\n",
       "      <td>2019-06-28</td>\n",
       "      <td>1.1371</td>\n",
       "    </tr>\n",
       "    <tr>\n",
       "      <th>2</th>\n",
       "      <td>2019-06-27</td>\n",
       "      <td>1.1369</td>\n",
       "    </tr>\n",
       "    <tr>\n",
       "      <th>3</th>\n",
       "      <td>2019-06-26</td>\n",
       "      <td>1.1387</td>\n",
       "    </tr>\n",
       "    <tr>\n",
       "      <th>4</th>\n",
       "      <td>2019-06-25</td>\n",
       "      <td>1.1359</td>\n",
       "    </tr>\n",
       "    <tr>\n",
       "      <th>...</th>\n",
       "      <td>...</td>\n",
       "      <td>...</td>\n",
       "    </tr>\n",
       "    <tr>\n",
       "      <th>4995</th>\n",
       "      <td>2000-01-10</td>\n",
       "      <td>1.0292</td>\n",
       "    </tr>\n",
       "    <tr>\n",
       "      <th>4996</th>\n",
       "      <td>2000-01-07</td>\n",
       "      <td>1.0324</td>\n",
       "    </tr>\n",
       "    <tr>\n",
       "      <th>4997</th>\n",
       "      <td>2000-01-06</td>\n",
       "      <td>1.0316</td>\n",
       "    </tr>\n",
       "    <tr>\n",
       "      <th>4998</th>\n",
       "      <td>2000-01-05</td>\n",
       "      <td>1.0312</td>\n",
       "    </tr>\n",
       "    <tr>\n",
       "      <th>4999</th>\n",
       "      <td>2000-01-04</td>\n",
       "      <td>1.0265</td>\n",
       "    </tr>\n",
       "  </tbody>\n",
       "</table>\n",
       "<p>5000 rows × 2 columns</p>\n",
       "</div>"
      ],
      "text/plain": [
       "           Date  Price of dollar\n",
       "0    2019-07-01           1.1377\n",
       "1    2019-06-28           1.1371\n",
       "2    2019-06-27           1.1369\n",
       "3    2019-06-26           1.1387\n",
       "4    2019-06-25           1.1359\n",
       "...         ...              ...\n",
       "4995 2000-01-10           1.0292\n",
       "4996 2000-01-07           1.0324\n",
       "4997 2000-01-06           1.0316\n",
       "4998 2000-01-05           1.0312\n",
       "4999 2000-01-04           1.0265\n",
       "\n",
       "[5000 rows x 2 columns]"
      ]
     },
     "execution_count": 68,
     "metadata": {},
     "output_type": "execute_result"
    }
   ],
   "source": [
    "euro_usd_data"
   ]
  },
  {
   "cell_type": "code",
   "execution_count": 69,
   "metadata": {},
   "outputs": [
    {
     "data": {
      "text/html": [
       "<div>\n",
       "<style scoped>\n",
       "    .dataframe tbody tr th:only-of-type {\n",
       "        vertical-align: middle;\n",
       "    }\n",
       "\n",
       "    .dataframe tbody tr th {\n",
       "        vertical-align: top;\n",
       "    }\n",
       "\n",
       "    .dataframe thead th {\n",
       "        text-align: right;\n",
       "    }\n",
       "</style>\n",
       "<table border=\"1\" class=\"dataframe\">\n",
       "  <thead>\n",
       "    <tr style=\"text-align: right;\">\n",
       "      <th></th>\n",
       "      <th>Date</th>\n",
       "      <th>Price of dollar</th>\n",
       "    </tr>\n",
       "  </thead>\n",
       "  <tbody>\n",
       "    <tr>\n",
       "      <th>4995</th>\n",
       "      <td>2000-01-10</td>\n",
       "      <td>1.0292</td>\n",
       "    </tr>\n",
       "    <tr>\n",
       "      <th>4996</th>\n",
       "      <td>2000-01-07</td>\n",
       "      <td>1.0324</td>\n",
       "    </tr>\n",
       "    <tr>\n",
       "      <th>4997</th>\n",
       "      <td>2000-01-06</td>\n",
       "      <td>1.0316</td>\n",
       "    </tr>\n",
       "    <tr>\n",
       "      <th>4998</th>\n",
       "      <td>2000-01-05</td>\n",
       "      <td>1.0312</td>\n",
       "    </tr>\n",
       "    <tr>\n",
       "      <th>4999</th>\n",
       "      <td>2000-01-04</td>\n",
       "      <td>1.0265</td>\n",
       "    </tr>\n",
       "  </tbody>\n",
       "</table>\n",
       "</div>"
      ],
      "text/plain": [
       "           Date  Price of dollar\n",
       "4995 2000-01-10           1.0292\n",
       "4996 2000-01-07           1.0324\n",
       "4997 2000-01-06           1.0316\n",
       "4998 2000-01-05           1.0312\n",
       "4999 2000-01-04           1.0265"
      ]
     },
     "execution_count": 69,
     "metadata": {},
     "output_type": "execute_result"
    }
   ],
   "source": [
    "euro_usd_data.tail()"
   ]
  },
  {
   "cell_type": "markdown",
   "metadata": {},
   "source": [
    "## merge the arrays\n"
   ]
  },
  {
   "cell_type": "code",
   "execution_count": 70,
   "metadata": {},
   "outputs": [
    {
     "name": "stdout",
     "output_type": "stream",
     "text": [
      "Index(['Date', 'INFLATION RATE'], dtype='object')\n",
      "Index(['Date', 'Mean_Price_Gold'], dtype='object')\n",
      "Index(['Date', 'UNRATE'], dtype='object')\n",
      "Index(['Date', 'Mean_Price_Brend_oil'], dtype='object')\n"
     ]
    }
   ],
   "source": [
    "# data_merge = pd.merge(inflation_data, unemployment_rate_data,gold_data,brend_oil_data, on='Date', how='left')\n",
    "print(inflation_data.columns)\n",
    "print(gold_data.columns)\n",
    "print(unemployment_rate_data.columns)\n",
    "print(brend_oil_data.columns)"
   ]
  },
  {
   "cell_type": "code",
   "execution_count": 71,
   "metadata": {},
   "outputs": [
    {
     "name": "stdout",
     "output_type": "stream",
     "text": [
      "Column names in inflation_data: Index(['Date', 'INFLATION RATE'], dtype='object')\n",
      "Column names in unemployment_rate_data: Index(['Date', 'UNRATE'], dtype='object')\n"
     ]
    },
    {
     "data": {
      "text/html": [
       "<div>\n",
       "<style scoped>\n",
       "    .dataframe tbody tr th:only-of-type {\n",
       "        vertical-align: middle;\n",
       "    }\n",
       "\n",
       "    .dataframe tbody tr th {\n",
       "        vertical-align: top;\n",
       "    }\n",
       "\n",
       "    .dataframe thead th {\n",
       "        text-align: right;\n",
       "    }\n",
       "</style>\n",
       "<table border=\"1\" class=\"dataframe\">\n",
       "  <thead>\n",
       "    <tr style=\"text-align: right;\">\n",
       "      <th></th>\n",
       "      <th>Date</th>\n",
       "      <th>UNRATE</th>\n",
       "    </tr>\n",
       "  </thead>\n",
       "  <tbody>\n",
       "    <tr>\n",
       "      <th>0</th>\n",
       "      <td>2000-01-01</td>\n",
       "      <td>4.0</td>\n",
       "    </tr>\n",
       "    <tr>\n",
       "      <th>1</th>\n",
       "      <td>2000-01-02</td>\n",
       "      <td>4.0</td>\n",
       "    </tr>\n",
       "    <tr>\n",
       "      <th>2</th>\n",
       "      <td>2000-01-03</td>\n",
       "      <td>4.0</td>\n",
       "    </tr>\n",
       "    <tr>\n",
       "      <th>3</th>\n",
       "      <td>2000-01-04</td>\n",
       "      <td>4.0</td>\n",
       "    </tr>\n",
       "    <tr>\n",
       "      <th>4</th>\n",
       "      <td>2000-01-05</td>\n",
       "      <td>4.0</td>\n",
       "    </tr>\n",
       "  </tbody>\n",
       "</table>\n",
       "</div>"
      ],
      "text/plain": [
       "        Date  UNRATE\n",
       "0 2000-01-01     4.0\n",
       "1 2000-01-02     4.0\n",
       "2 2000-01-03     4.0\n",
       "3 2000-01-04     4.0\n",
       "4 2000-01-05     4.0"
      ]
     },
     "execution_count": 71,
     "metadata": {},
     "output_type": "execute_result"
    }
   ],
   "source": [
    "print(\"Column names in inflation_data:\", inflation_data.columns)\n",
    "print(\"Column names in unemployment_rate_data:\", unemployment_rate_data.columns)\n",
    "unemployment_rate_data.head()"
   ]
  },
  {
   "cell_type": "code",
   "execution_count": 72,
   "metadata": {},
   "outputs": [
    {
     "data": {
      "text/plain": [
       "Index(['Date', 'INFLATION RATE', 'UNRATE', 'Mean_Price_Gold',\n",
       "       'Mean_Price_Brend_oil', 'Price of dollar'],\n",
       "      dtype='object')"
      ]
     },
     "execution_count": 72,
     "metadata": {},
     "output_type": "execute_result"
    }
   ],
   "source": [
    "data_merge = pd.merge(inflation_data, unemployment_rate_data ,on='Date', how='left')\n",
    "data_merge = pd.merge(data_merge, gold_data, on='Date', how='left')\n",
    "data_merge = pd.merge(data_merge, brend_oil_data, on='Date', how='left')\n",
    "data_merge = pd.merge(data_merge, euro_usd_data, on='Date', how='left')\n",
    "\n",
    "data_merge.columns\n"
   ]
  },
  {
   "cell_type": "code",
   "execution_count": 73,
   "metadata": {},
   "outputs": [
    {
     "name": "stdout",
     "output_type": "stream",
     "text": [
      "Date                       0\n",
      "INFLATION RATE             0\n",
      "UNRATE                     0\n",
      "Mean_Price_Gold         2698\n",
      "Mean_Price_Brend_oil    3401\n",
      "Price of dollar         3401\n",
      "dtype: int64\n"
     ]
    }
   ],
   "source": [
    "missing_values = data_merge.isnull().sum()\n",
    "print(missing_values)"
   ]
  },
  {
   "cell_type": "code",
   "execution_count": 74,
   "metadata": {},
   "outputs": [],
   "source": [
    "# Drop rows with NaN values from the DataFrame\n",
    "data_merge.dropna(inplace=True)\n"
   ]
  },
  {
   "cell_type": "code",
   "execution_count": 75,
   "metadata": {},
   "outputs": [
    {
     "name": "stdout",
     "output_type": "stream",
     "text": [
      "Date                    0\n",
      "INFLATION RATE          0\n",
      "UNRATE                  0\n",
      "Mean_Price_Gold         0\n",
      "Mean_Price_Brend_oil    0\n",
      "Price of dollar         0\n",
      "dtype: int64\n"
     ]
    }
   ],
   "source": [
    "# Check for missing values in the merged_data DataFrame\n",
    "missing_values = data_merge.isnull().sum()\n",
    "\n",
    "# Print the count of missing values for each column\n",
    "print(missing_values)"
   ]
  },
  {
   "cell_type": "code",
   "execution_count": 76,
   "metadata": {},
   "outputs": [
    {
     "data": {
      "text/plain": [
       "(4876, 6)"
      ]
     },
     "execution_count": 76,
     "metadata": {},
     "output_type": "execute_result"
    }
   ],
   "source": [
    "data_merge.shape"
   ]
  },
  {
   "cell_type": "code",
   "execution_count": 77,
   "metadata": {},
   "outputs": [
    {
     "data": {
      "text/html": [
       "<div>\n",
       "<style scoped>\n",
       "    .dataframe tbody tr th:only-of-type {\n",
       "        vertical-align: middle;\n",
       "    }\n",
       "\n",
       "    .dataframe tbody tr th {\n",
       "        vertical-align: top;\n",
       "    }\n",
       "\n",
       "    .dataframe thead th {\n",
       "        text-align: right;\n",
       "    }\n",
       "</style>\n",
       "<table border=\"1\" class=\"dataframe\">\n",
       "  <thead>\n",
       "    <tr style=\"text-align: right;\">\n",
       "      <th></th>\n",
       "      <th>Date</th>\n",
       "      <th>INFLATION RATE</th>\n",
       "      <th>UNRATE</th>\n",
       "      <th>Mean_Price_Gold</th>\n",
       "      <th>Mean_Price_Brend_oil</th>\n",
       "      <th>Price of dollar</th>\n",
       "    </tr>\n",
       "  </thead>\n",
       "  <tbody>\n",
       "    <tr>\n",
       "      <th>3</th>\n",
       "      <td>2000-01-04</td>\n",
       "      <td>3.376857</td>\n",
       "      <td>4.0</td>\n",
       "      <td>284.75</td>\n",
       "      <td>24.295</td>\n",
       "      <td>1.0265</td>\n",
       "    </tr>\n",
       "    <tr>\n",
       "      <th>4</th>\n",
       "      <td>2000-01-05</td>\n",
       "      <td>3.376857</td>\n",
       "      <td>4.0</td>\n",
       "      <td>283.00</td>\n",
       "      <td>24.035</td>\n",
       "      <td>1.0312</td>\n",
       "    </tr>\n",
       "    <tr>\n",
       "      <th>5</th>\n",
       "      <td>2000-01-06</td>\n",
       "      <td>3.376857</td>\n",
       "      <td>4.0</td>\n",
       "      <td>281.50</td>\n",
       "      <td>23.785</td>\n",
       "      <td>1.0316</td>\n",
       "    </tr>\n",
       "    <tr>\n",
       "      <th>6</th>\n",
       "      <td>2000-01-07</td>\n",
       "      <td>3.376857</td>\n",
       "      <td>4.0</td>\n",
       "      <td>283.25</td>\n",
       "      <td>23.515</td>\n",
       "      <td>1.0324</td>\n",
       "    </tr>\n",
       "    <tr>\n",
       "      <th>9</th>\n",
       "      <td>2000-01-10</td>\n",
       "      <td>3.376857</td>\n",
       "      <td>4.0</td>\n",
       "      <td>282.85</td>\n",
       "      <td>23.410</td>\n",
       "      <td>1.0292</td>\n",
       "    </tr>\n",
       "  </tbody>\n",
       "</table>\n",
       "</div>"
      ],
      "text/plain": [
       "        Date  INFLATION RATE  UNRATE  Mean_Price_Gold  Mean_Price_Brend_oil  \\\n",
       "3 2000-01-04        3.376857     4.0           284.75                24.295   \n",
       "4 2000-01-05        3.376857     4.0           283.00                24.035   \n",
       "5 2000-01-06        3.376857     4.0           281.50                23.785   \n",
       "6 2000-01-07        3.376857     4.0           283.25                23.515   \n",
       "9 2000-01-10        3.376857     4.0           282.85                23.410   \n",
       "\n",
       "   Price of dollar  \n",
       "3           1.0265  \n",
       "4           1.0312  \n",
       "5           1.0316  \n",
       "6           1.0324  \n",
       "9           1.0292  "
      ]
     },
     "execution_count": 77,
     "metadata": {},
     "output_type": "execute_result"
    }
   ],
   "source": [
    "data_merge.head()"
   ]
  },
  {
   "cell_type": "code",
   "execution_count": 78,
   "metadata": {},
   "outputs": [
    {
     "data": {
      "text/html": [
       "<div>\n",
       "<style scoped>\n",
       "    .dataframe tbody tr th:only-of-type {\n",
       "        vertical-align: middle;\n",
       "    }\n",
       "\n",
       "    .dataframe tbody tr th {\n",
       "        vertical-align: top;\n",
       "    }\n",
       "\n",
       "    .dataframe thead th {\n",
       "        text-align: right;\n",
       "    }\n",
       "</style>\n",
       "<table border=\"1\" class=\"dataframe\">\n",
       "  <thead>\n",
       "    <tr style=\"text-align: right;\">\n",
       "      <th></th>\n",
       "      <th>Date</th>\n",
       "      <th>INFLATION RATE</th>\n",
       "      <th>UNRATE</th>\n",
       "      <th>Mean_Price_Gold</th>\n",
       "      <th>Mean_Price_Brend_oil</th>\n",
       "      <th>Price of dollar</th>\n",
       "    </tr>\n",
       "  </thead>\n",
       "  <tbody>\n",
       "    <tr>\n",
       "      <th>7115</th>\n",
       "      <td>2019-06-25</td>\n",
       "      <td>1.81221</td>\n",
       "      <td>3.6</td>\n",
       "      <td>1429.00</td>\n",
       "      <td>65.075</td>\n",
       "      <td>1.1359</td>\n",
       "    </tr>\n",
       "    <tr>\n",
       "      <th>7116</th>\n",
       "      <td>2019-06-26</td>\n",
       "      <td>1.81221</td>\n",
       "      <td>3.6</td>\n",
       "      <td>1416.45</td>\n",
       "      <td>66.225</td>\n",
       "      <td>1.1387</td>\n",
       "    </tr>\n",
       "    <tr>\n",
       "      <th>7117</th>\n",
       "      <td>2019-06-27</td>\n",
       "      <td>1.81221</td>\n",
       "      <td>3.6</td>\n",
       "      <td>1408.35</td>\n",
       "      <td>66.225</td>\n",
       "      <td>1.1369</td>\n",
       "    </tr>\n",
       "    <tr>\n",
       "      <th>7118</th>\n",
       "      <td>2019-06-28</td>\n",
       "      <td>1.81221</td>\n",
       "      <td>3.6</td>\n",
       "      <td>1418.20</td>\n",
       "      <td>66.460</td>\n",
       "      <td>1.1371</td>\n",
       "    </tr>\n",
       "    <tr>\n",
       "      <th>7121</th>\n",
       "      <td>2019-07-01</td>\n",
       "      <td>1.81221</td>\n",
       "      <td>3.7</td>\n",
       "      <td>1393.30</td>\n",
       "      <td>65.485</td>\n",
       "      <td>1.1377</td>\n",
       "    </tr>\n",
       "  </tbody>\n",
       "</table>\n",
       "</div>"
      ],
      "text/plain": [
       "           Date  INFLATION RATE  UNRATE  Mean_Price_Gold  \\\n",
       "7115 2019-06-25         1.81221     3.6          1429.00   \n",
       "7116 2019-06-26         1.81221     3.6          1416.45   \n",
       "7117 2019-06-27         1.81221     3.6          1408.35   \n",
       "7118 2019-06-28         1.81221     3.6          1418.20   \n",
       "7121 2019-07-01         1.81221     3.7          1393.30   \n",
       "\n",
       "      Mean_Price_Brend_oil  Price of dollar  \n",
       "7115                65.075           1.1359  \n",
       "7116                66.225           1.1387  \n",
       "7117                66.225           1.1369  \n",
       "7118                66.460           1.1371  \n",
       "7121                65.485           1.1377  "
      ]
     },
     "execution_count": 78,
     "metadata": {},
     "output_type": "execute_result"
    }
   ],
   "source": [
    "data_merge.tail()"
   ]
  },
  {
   "cell_type": "code",
   "execution_count": 79,
   "metadata": {},
   "outputs": [],
   "source": [
    "file_path = 'C:\\\\el jabri\\DATASET FOR DOLLAR PREDICTION\\\\final data\\\\file_name.csv'\n",
    "\n",
    "# Save the DataFrame as a CSV file\n",
    "data_merge.to_csv(file_path, index=False)"
   ]
  },
  {
   "cell_type": "markdown",
   "metadata": {},
   "source": [
    "## Split the dataset into training, cross validation, and test sets\n"
   ]
  },
  {
   "cell_type": "markdown",
   "metadata": {},
   "source": []
  },
  {
   "cell_type": "code",
   "execution_count": 80,
   "metadata": {},
   "outputs": [
    {
     "data": {
      "text/plain": [
       "Index(['Date', 'INFLATION RATE', 'UNRATE', 'Mean_Price_Gold',\n",
       "       'Mean_Price_Brend_oil', 'Price of dollar'],\n",
       "      dtype='object')"
      ]
     },
     "execution_count": 80,
     "metadata": {},
     "output_type": "execute_result"
    }
   ],
   "source": [
    "data_merge.columns"
   ]
  },
  {
   "cell_type": "code",
   "execution_count": 81,
   "metadata": {},
   "outputs": [],
   "source": [
    "columns_first_table = ['INFLATION RATE', 'UNRATE', 'Mean_Price_Gold', 'Mean_Price_Brend_oil']\n",
    "columns_second_table = ['Price of dollar']\n",
    "\n",
    "# Create the first table with selected columns\n",
    "X = data_merge[columns_first_table]\n",
    "\n",
    "# Create the second table with selected columns\n",
    "Y = data_merge[columns_second_table]"
   ]
  },
  {
   "cell_type": "code",
   "execution_count": 82,
   "metadata": {},
   "outputs": [
    {
     "name": "stdout",
     "output_type": "stream",
     "text": [
      "the shape of the inputs x is: (4876, 4)\n",
      "the shape of the targets y is: (4876, 1)\n"
     ]
    }
   ],
   "source": [
    "print(f\"the shape of the inputs x is: {X.shape}\")\n",
    "print(f\"the shape of the targets y is: {Y.shape}\")"
   ]
  },
  {
   "cell_type": "code",
   "execution_count": 83,
   "metadata": {},
   "outputs": [
    {
     "name": "stdout",
     "output_type": "stream",
     "text": [
      "First 5 lines of X:\n",
      "   INFLATION RATE  UNRATE  Mean_Price_Gold  Mean_Price_Brend_oil\n",
      "3        3.376857     4.0           284.75                24.295\n",
      "4        3.376857     4.0           283.00                24.035\n",
      "5        3.376857     4.0           281.50                23.785\n",
      "6        3.376857     4.0           283.25                23.515\n",
      "9        3.376857     4.0           282.85                23.410\n",
      "First 5 lines of Y:\n",
      "   Price of dollar\n",
      "3           1.0265\n",
      "4           1.0312\n",
      "5           1.0316\n",
      "6           1.0324\n",
      "9           1.0292\n"
     ]
    }
   ],
   "source": [
    "# Display the first 5 lines of x\n",
    "print(\"First 5 lines of X:\")\n",
    "print(X[:5])\n",
    "\n",
    "# Display the first 5 lines of y\n",
    "print(\"First 5 lines of Y:\")\n",
    "print(Y[:5])"
   ]
  },
  {
   "cell_type": "markdown",
   "metadata": {},
   "source": [
    "##  Split the dataset into training, cross validation, and test sets\n"
   ]
  },
  {
   "cell_type": "code",
   "execution_count": 84,
   "metadata": {},
   "outputs": [
    {
     "name": "stdout",
     "output_type": "stream",
     "text": [
      "the shape of the training set (input) is: (2925, 4)\n",
      "the shape of the training set (target) is: (2925, 4)\n",
      "\n",
      "the shape of the cross validation set (input) is: (975, 4)\n",
      "the shape of the cross validation set (target) is: (975, 4)\n",
      "\n",
      "the shape of the test set (input) is: (976, 4)\n",
      "the shape of the test set (target) is: (976, 4)\n"
     ]
    }
   ],
   "source": [
    "# Get 60% of the dataset as the training set. Put the remaining 40% in temporary variables: x_ and y_.\n",
    "x_train, x_, y_train, y_ = train_test_split(X, X, test_size=0.40, random_state=1)\n",
    "\n",
    "# Split the 40% subset above into two: one half for cross validation and the other for the test set\n",
    "x_cv, x_test, y_cv, y_test = train_test_split(x_, y_, test_size=0.50, random_state=1)\n",
    "\n",
    "# Delete temporary variables\n",
    "del x_, y_\n",
    "\n",
    "print(f\"the shape of the training set (input) is: {x_train.shape}\")\n",
    "print(f\"the shape of the training set (target) is: {y_train.shape}\\n\")\n",
    "print(f\"the shape of the cross validation set (input) is: {x_cv.shape}\")\n",
    "print(f\"the shape of the cross validation set (target) is: {y_cv.shape}\\n\")\n",
    "print(f\"the shape of the test set (input) is: {x_test.shape}\")\n",
    "print(f\"the shape of the test set (target) is: {y_test.shape}\")\n"
   ]
  },
  {
   "cell_type": "markdown",
   "metadata": {},
   "source": []
  },
  {
   "cell_type": "markdown",
   "metadata": {},
   "source": [
    "### Feature scaling\n"
   ]
  },
  {
   "cell_type": "code",
   "execution_count": 85,
   "metadata": {},
   "outputs": [],
   "source": [
    "# Initialize the StandardScaler\n",
    "scaler_linear = StandardScaler()\n",
    "\n",
    "# Fit the scaler to the training data and transform it\n",
    "x_train_scaled = scaler_linear.fit_transform(x_train)"
   ]
  },
  {
   "cell_type": "markdown",
   "metadata": {},
   "source": [
    "### Train the model\n"
   ]
  },
  {
   "cell_type": "code",
   "execution_count": 86,
   "metadata": {},
   "outputs": [
    {
     "data": {
      "text/html": [
       "<style>#sk-container-id-1 {color: black;}#sk-container-id-1 pre{padding: 0;}#sk-container-id-1 div.sk-toggleable {background-color: white;}#sk-container-id-1 label.sk-toggleable__label {cursor: pointer;display: block;width: 100%;margin-bottom: 0;padding: 0.3em;box-sizing: border-box;text-align: center;}#sk-container-id-1 label.sk-toggleable__label-arrow:before {content: \"▸\";float: left;margin-right: 0.25em;color: #696969;}#sk-container-id-1 label.sk-toggleable__label-arrow:hover:before {color: black;}#sk-container-id-1 div.sk-estimator:hover label.sk-toggleable__label-arrow:before {color: black;}#sk-container-id-1 div.sk-toggleable__content {max-height: 0;max-width: 0;overflow: hidden;text-align: left;background-color: #f0f8ff;}#sk-container-id-1 div.sk-toggleable__content pre {margin: 0.2em;color: black;border-radius: 0.25em;background-color: #f0f8ff;}#sk-container-id-1 input.sk-toggleable__control:checked~div.sk-toggleable__content {max-height: 200px;max-width: 100%;overflow: auto;}#sk-container-id-1 input.sk-toggleable__control:checked~label.sk-toggleable__label-arrow:before {content: \"▾\";}#sk-container-id-1 div.sk-estimator input.sk-toggleable__control:checked~label.sk-toggleable__label {background-color: #d4ebff;}#sk-container-id-1 div.sk-label input.sk-toggleable__control:checked~label.sk-toggleable__label {background-color: #d4ebff;}#sk-container-id-1 input.sk-hidden--visually {border: 0;clip: rect(1px 1px 1px 1px);clip: rect(1px, 1px, 1px, 1px);height: 1px;margin: -1px;overflow: hidden;padding: 0;position: absolute;width: 1px;}#sk-container-id-1 div.sk-estimator {font-family: monospace;background-color: #f0f8ff;border: 1px dotted black;border-radius: 0.25em;box-sizing: border-box;margin-bottom: 0.5em;}#sk-container-id-1 div.sk-estimator:hover {background-color: #d4ebff;}#sk-container-id-1 div.sk-parallel-item::after {content: \"\";width: 100%;border-bottom: 1px solid gray;flex-grow: 1;}#sk-container-id-1 div.sk-label:hover label.sk-toggleable__label {background-color: #d4ebff;}#sk-container-id-1 div.sk-serial::before {content: \"\";position: absolute;border-left: 1px solid gray;box-sizing: border-box;top: 0;bottom: 0;left: 50%;z-index: 0;}#sk-container-id-1 div.sk-serial {display: flex;flex-direction: column;align-items: center;background-color: white;padding-right: 0.2em;padding-left: 0.2em;position: relative;}#sk-container-id-1 div.sk-item {position: relative;z-index: 1;}#sk-container-id-1 div.sk-parallel {display: flex;align-items: stretch;justify-content: center;background-color: white;position: relative;}#sk-container-id-1 div.sk-item::before, #sk-container-id-1 div.sk-parallel-item::before {content: \"\";position: absolute;border-left: 1px solid gray;box-sizing: border-box;top: 0;bottom: 0;left: 50%;z-index: -1;}#sk-container-id-1 div.sk-parallel-item {display: flex;flex-direction: column;z-index: 1;position: relative;background-color: white;}#sk-container-id-1 div.sk-parallel-item:first-child::after {align-self: flex-end;width: 50%;}#sk-container-id-1 div.sk-parallel-item:last-child::after {align-self: flex-start;width: 50%;}#sk-container-id-1 div.sk-parallel-item:only-child::after {width: 0;}#sk-container-id-1 div.sk-dashed-wrapped {border: 1px dashed gray;margin: 0 0.4em 0.5em 0.4em;box-sizing: border-box;padding-bottom: 0.4em;background-color: white;}#sk-container-id-1 div.sk-label label {font-family: monospace;font-weight: bold;display: inline-block;line-height: 1.2em;}#sk-container-id-1 div.sk-label-container {text-align: center;}#sk-container-id-1 div.sk-container {/* jupyter's `normalize.less` sets `[hidden] { display: none; }` but bootstrap.min.css set `[hidden] { display: none !important; }` so we also need the `!important` here to be able to override the default hidden behavior on the sphinx rendered scikit-learn.org. See: https://github.com/scikit-learn/scikit-learn/issues/21755 */display: inline-block !important;position: relative;}#sk-container-id-1 div.sk-text-repr-fallback {display: none;}</style><div id=\"sk-container-id-1\" class=\"sk-top-container\"><div class=\"sk-text-repr-fallback\"><pre>LinearRegression()</pre><b>In a Jupyter environment, please rerun this cell to show the HTML representation or trust the notebook. <br />On GitHub, the HTML representation is unable to render, please try loading this page with nbviewer.org.</b></div><div class=\"sk-container\" hidden><div class=\"sk-item\"><div class=\"sk-estimator sk-toggleable\"><input class=\"sk-toggleable__control sk-hidden--visually\" id=\"sk-estimator-id-1\" type=\"checkbox\" checked><label for=\"sk-estimator-id-1\" class=\"sk-toggleable__label sk-toggleable__label-arrow\">LinearRegression</label><div class=\"sk-toggleable__content\"><pre>LinearRegression()</pre></div></div></div></div></div>"
      ],
      "text/plain": [
       "LinearRegression()"
      ]
     },
     "execution_count": 86,
     "metadata": {},
     "output_type": "execute_result"
    }
   ],
   "source": [
    "linear_model = LinearRegression()\n",
    "linear_model.fit(x_train_scaled, y_train)"
   ]
  },
  {
   "cell_type": "markdown",
   "metadata": {},
   "source": [
    "### Evaluate the Model\n"
   ]
  },
  {
   "cell_type": "code",
   "execution_count": 89,
   "metadata": {},
   "outputs": [
    {
     "name": "stdout",
     "output_type": "stream",
     "text": [
      "training MSE (using sklearn function): 6.669987191854766e-27\n"
     ]
    }
   ],
   "source": [
    "# Use scikit-learn's utility function and divide by 2\n",
    "yhat = linear_model.predict(x_train_scaled)\n",
    "\n",
    "# Use scikit-learn's utility function and divide by 2\n",
    "print(f\"training MSE (using sklearn function): {mean_squared_error(y_train, yhat) / 2}\")\n"
   ]
  },
  {
   "cell_type": "code",
   "execution_count": 90,
   "metadata": {},
   "outputs": [
    {
     "name": "stdout",
     "output_type": "stream",
     "text": [
      "6.4368923137646516e-27\n"
     ]
    }
   ],
   "source": [
    "# Scale the cross validation set using the mean and standard deviation of the training set\n",
    "X_cv_scaled = scaler_linear.transform(x_cv)\n",
    "\n",
    "predictions = linear_model.predict(X_cv_scaled)\n",
    "mae = mean_squared_error(y_cv, predictions)/2\n",
    "print(mae)"
   ]
  },
  {
   "cell_type": "code",
   "execution_count": 92,
   "metadata": {},
   "outputs": [
    {
     "name": "stdout",
     "output_type": "stream",
     "text": [
      "Test MSE: 1.1998546532212039e-26\n"
     ]
    }
   ],
   "source": [
    "# Use the test data to evaluate the model\n",
    "X_test_scaled = scaler_linear.transform(x_test)\n",
    "predictions_test = linear_model.predict(X_test_scaled)\n",
    "\n",
    "# Calculate Mean Squared Error and Mean Absolute Error\n",
    "test_mse = mean_squared_error(y_test, predictions_test)\n",
    "\n",
    "print(f\"Test MSE: {test_mse}\")"
   ]
  },
  {
   "cell_type": "code",
   "execution_count": 93,
   "metadata": {},
   "outputs": [
    {
     "name": "stdout",
     "output_type": "stream",
     "text": [
      "The model may be overfitting the training data.\n"
     ]
    }
   ],
   "source": [
    "# Assess model performance on the validation set\n",
    "X_cv_scaled = scaler_linear.transform(x_cv)\n",
    "predictions_cv = linear_model.predict(X_cv_scaled)\n",
    "validation_mse = mean_squared_error(y_cv, predictions_cv)\n",
    "\n",
    "if validation_mse > test_mse:\n",
    "    print(\"The model may be overfitting the training data.\")\n",
    "else:\n",
    "    print(\"The model is performing well on the validation data.\")\n"
   ]
  },
  {
   "cell_type": "code",
   "execution_count": 95,
   "metadata": {},
   "outputs": [],
   "source": [
    "from sklearn.preprocessing import PolynomialFeatures\n"
   ]
  },
  {
   "cell_type": "code",
   "execution_count": 96,
   "metadata": {},
   "outputs": [],
   "source": [
    "# Initialize lists containing the lists, models, and scalers\n",
    "train_mses = []\n",
    "cv_mses = []\n",
    "models = []\n",
    "scalers = []\n",
    "\n",
    "# Loop over 10 times, each time adding one more degree of polynomial higher than the last.\n",
    "for degree in range(1, 11):\n",
    "    \n",
    "    # Add polynomial features to the training set\n",
    "    poly = PolynomialFeatures(degree, include_bias=False)\n",
    "    X_train_mapped = poly.fit_transform(x_train)  # Call fit_transform with training data\n",
    "    \n",
    "    # Scale the training set\n",
    "    scaler_poly = StandardScaler()\n",
    "    X_train_mapped_scaled = scaler_poly.fit_transform(X_train_mapped)\n",
    "    scalers.append(scaler_poly)\n",
    "    \n",
    "    # Create and train the model\n",
    "    model = LinearRegression()\n",
    "    model.fit(X_train_mapped_scaled, y_train)\n",
    "    models.append(model)\n",
    "    \n",
    "    # Compute the training MSE\n",
    "    yhat = model.predict(X_train_mapped_scaled)\n",
    "    train_mse = mean_squared_error(y_train, yhat) / 2\n",
    "    train_mses.append(train_mse)\n",
    "    \n",
    "    # Add polynomial features and scale the cross-validation set\n",
    "    X_cv_mapped = poly.transform(x_cv)  # Call transform with cross-validation data\n",
    "    \n",
    "    X_cv_mapped_scaled = scaler_poly.transform(X_cv_mapped)\n",
    "    \n",
    "    # Compute the cross-validation MSE\n",
    "    yhat = model.predict(X_cv_mapped_scaled)\n",
    "    cv_mse = mean_squared_error(y_cv, yhat) / 2\n",
    "    cv_mses.append(cv_mse)"
   ]
  },
  {
   "cell_type": "code",
   "execution_count": 98,
   "metadata": {},
   "outputs": [
    {
     "data": {
      "image/png": "[encoded data removed]",
      "text/plain": [
       "<Figure size 1000x600 with 1 Axes>"
      ]
     },
     "metadata": {},
     "output_type": "display_data"
    }
   ],
   "source": [
    "# Plot the results\n",
    "degrees = range(1, 11)\n",
    "plt.figure(figsize=(10, 6))\n",
    "plt.plot(degrees, train_mses, label=\"Train MSE\")\n",
    "plt.plot(degrees, cv_mses, label=\"CV MSE\")\n",
    "plt.xlabel(\"Degree of Polynomial\")\n",
    "plt.ylabel(\"Mean Squared Error (MSE)\")\n",
    "plt.title(\"Degree of Polynomial vs. Train and CV MSEs\")\n",
    "plt.legend()\n",
    "plt.grid(True)\n",
    "plt.show()"
   ]
  },
  {
   "cell_type": "markdown",
   "metadata": {},
   "source": [
    "### Choosing the best model"
   ]
  },
  {
   "cell_type": "code",
   "execution_count": 100,
   "metadata": {},
   "outputs": [
    {
     "name": "stdout",
     "output_type": "stream",
     "text": [
      "Lowest CV MSE is found in the model with degree=1\n"
     ]
    }
   ],
   "source": [
    "degree = np.argmin(cv_mses) + 1\n",
    "print(f\"Lowest CV MSE is found in the model with degree={degree}\")"
   ]
  },
  {
   "cell_type": "markdown",
   "metadata": {},
   "source": [
    " # neurol network"
   ]
  },
  {
   "cell_type": "markdown",
   "metadata": {},
   "source": []
  },
  {
   "cell_type": "code",
   "execution_count": 112,
   "metadata": {},
   "outputs": [],
   "source": [
    "import tensorflow as tf\n",
    "from tensorflow import keras\n",
    "\n",
    "def build_models():\n",
    "    models = []\n",
    "\n",
    "    # Define and add different models with various architectures\n",
    "    # Model 1\n",
    "    model_1 = keras.Sequential([\n",
    "        keras.layers.Dense(32, activation='relu', input_shape=(X_train_mapped_scaled.shape[1],)),\n",
    "        keras.layers.Dense(64, activation='relu'),\n",
    "        keras.layers.Dense(1)\n",
    "    ])\n",
    "    # model_1.name = \"Model 1\"\n",
    "    models.append(model_1)\n",
    "\n",
    "    # Model 2\n",
    "    model_2 = keras.Sequential([\n",
    "        keras.layers.Dense(64, activation='relu', input_shape=(X_train_mapped_scaled.shape[1],)),\n",
    "        keras.layers.Dense(64, activation='relu'),\n",
    "        keras.layers.Dense(1)\n",
    "    ])\n",
    "    # model_2.name = \"Model 2\"\n",
    "    models.append(model_2)\n",
    "\n",
    "    # Model 3\n",
    "    model_3 = keras.Sequential([\n",
    "        keras.layers.Dense(32, activation='relu', input_shape=(X_train_mapped_scaled.shape[1],)),\n",
    "        keras.layers.Dense(32, activation='relu'),\n",
    "        keras.layers.Dense(32, activation='relu'),\n",
    "        keras.layers.Dense(1)\n",
    "    ])\n",
    "    # model_3.name = \"Model 3\"\n",
    "    models.append(model_3)\n",
    "\n",
    "    # Add more models with different architectures as needed\n",
    "\n",
    "    return models\n"
   ]
  },
  {
   "cell_type": "code",
   "execution_count": 113,
   "metadata": {},
   "outputs": [
    {
     "name": "stdout",
     "output_type": "stream",
     "text": [
      "Training MSE: 0.00\n",
      "Cross Validation MSE: 0.00\n",
      "Test MSE: 0.00\n",
      "-----------------\n",
      "[LinearRegression(), LinearRegression(), LinearRegression(), LinearRegression(), LinearRegression(), LinearRegression(), LinearRegression(), LinearRegression(), LinearRegression(), LinearRegression()]\n"
     ]
    }
   ],
   "source": [
    "# Add polynomial features to the test set\n",
    "poly = PolynomialFeatures(degree, include_bias=False)\n",
    "X_test_mapped = poly.fit_transform(x_test)\n",
    "\n",
    "# Scale the test set\n",
    "X_test_mapped_scaled = scalers[degree-1].transform(X_test_mapped)\n",
    "\n",
    "# Compute the test MSE\n",
    "yhat = models[degree-1].predict(X_test_mapped_scaled)\n",
    "test_mse = mean_squared_error(y_test, yhat) / 2\n",
    "\n",
    "print(f\"Training MSE: {train_mses[degree-1]:.2f}\")\n",
    "print(f\"Cross Validation MSE: {cv_mses[degree-1]:.2f}\")\n",
    "print(f\"Test MSE: {test_mse:.2f}\")\n",
    "print('-----------------')\n",
    "print(models)\n"
   ]
  },
  {
   "cell_type": "code",
   "execution_count": 115,
   "metadata": {},
   "outputs": [],
   "source": [
    "from sklearn.preprocessing import PolynomialFeatures, StandardScaler\n",
    "from sklearn.metrics import mean_squared_error\n",
    "import tensorflow as tf\n",
    "\n",
    "# Add polynomial features\n",
    "degree = 1\n",
    "poly = PolynomialFeatures(degree, include_bias=False)\n",
    "X_train_mapped = poly.fit_transform(x_train)\n",
    "X_cv_mapped = poly.transform(x_cv)\n",
    "X_test_mapped = poly.transform(x_test)\n",
    "\n"
   ]
  },
  {
   "cell_type": "code",
   "execution_count": 116,
   "metadata": {},
   "outputs": [],
   "source": [
    "# Scale the features using the z-score\n",
    "scaler = StandardScaler()\n",
    "X_train_mapped_scaled = scaler.fit_transform(X_train_mapped)\n",
    "X_cv_mapped_scaled = scaler.transform(X_cv_mapped)\n",
    "X_test_mapped_scaled = scaler.transform(X_test_mapped)\n",
    "\n"
   ]
  },
  {
   "cell_type": "code",
   "execution_count": 123,
   "metadata": {},
   "outputs": [
    {
     "ename": "AttributeError",
     "evalue": "Can't set the attribute \"name\", likely because it conflicts with an existing read-only @property of the object. Please choose a different name.",
     "output_type": "error",
     "traceback": [
      "\u001b[1;31m---------------------------------------------------------------------------\u001b[0m",
      "\u001b[1;31mAttributeError\u001b[0m                            Traceback (most recent call last)",
      "File \u001b[1;32mc:\\Users\\UCA\\anaconda3\\Lib\\site-packages\\keras\\src\\engine\\base_layer.py:3153\u001b[0m, in \u001b[0;36mLayer.__setattr__\u001b[1;34m(self, name, value)\u001b[0m\n\u001b[0;32m   3152\u001b[0m \u001b[39mtry\u001b[39;00m:\n\u001b[1;32m-> 3153\u001b[0m     \u001b[39msuper\u001b[39m(tf\u001b[39m.\u001b[39m__internal__\u001b[39m.\u001b[39mtracking\u001b[39m.\u001b[39mAutoTrackable, \u001b[39mself\u001b[39m)\u001b[39m.\u001b[39m\u001b[39m__setattr__\u001b[39m(\n\u001b[0;32m   3154\u001b[0m         name, value\n\u001b[0;32m   3155\u001b[0m     )\n\u001b[0;32m   3156\u001b[0m \u001b[39mexcept\u001b[39;00m \u001b[39mAttributeError\u001b[39;00m:\n",
      "\u001b[1;31mAttributeError\u001b[0m: property 'name' of 'Sequential' object has no setter",
      "\nDuring handling of the above exception, another exception occurred:\n",
      "\u001b[1;31mAttributeError\u001b[0m                            Traceback (most recent call last)",
      "\u001b[1;32mc:\\el jabri\\machine learning\\gold.ipynb Cell 91\u001b[0m line \u001b[0;36m6\n\u001b[0;32m      <a href='vscode-notebook-cell:/c%3A/el%20jabri/machine%20learning/gold.ipynb#Y333sZmlsZQ%3D%3D?line=2'>3</a>\u001b[0m nn_cv_mses \u001b[39m=\u001b[39m []\n\u001b[0;32m      <a href='vscode-notebook-cell:/c%3A/el%20jabri/machine%20learning/gold.ipynb#Y333sZmlsZQ%3D%3D?line=4'>5</a>\u001b[0m \u001b[39m# Build the neural network models using your utility function (replace 'utils.build_models()' with the appropriate function)\u001b[39;00m\n\u001b[1;32m----> <a href='vscode-notebook-cell:/c%3A/el%20jabri/machine%20learning/gold.ipynb#Y333sZmlsZQ%3D%3D?line=5'>6</a>\u001b[0m nn_models \u001b[39m=\u001b[39m build_models()\n\u001b[0;32m      <a href='vscode-notebook-cell:/c%3A/el%20jabri/machine%20learning/gold.ipynb#Y333sZmlsZQ%3D%3D?line=7'>8</a>\u001b[0m \u001b[39m# Loop over the models\u001b[39;00m\n\u001b[0;32m      <a href='vscode-notebook-cell:/c%3A/el%20jabri/machine%20learning/gold.ipynb#Y333sZmlsZQ%3D%3D?line=8'>9</a>\u001b[0m \u001b[39mfor\u001b[39;00m model \u001b[39min\u001b[39;00m nn_models:\n\u001b[0;32m     <a href='vscode-notebook-cell:/c%3A/el%20jabri/machine%20learning/gold.ipynb#Y333sZmlsZQ%3D%3D?line=9'>10</a>\u001b[0m     \n\u001b[0;32m     <a href='vscode-notebook-cell:/c%3A/el%20jabri/machine%20learning/gold.ipynb#Y333sZmlsZQ%3D%3D?line=10'>11</a>\u001b[0m     \u001b[39m# Setup the loss and optimizer\u001b[39;00m\n",
      "\u001b[1;32mc:\\el jabri\\machine learning\\gold.ipynb Cell 91\u001b[0m line \u001b[0;36m1\n\u001b[0;32m      <a href='vscode-notebook-cell:/c%3A/el%20jabri/machine%20learning/gold.ipynb#Y333sZmlsZQ%3D%3D?line=6'>7</a>\u001b[0m \u001b[39m# Define and add different models with various architectures\u001b[39;00m\n\u001b[0;32m      <a href='vscode-notebook-cell:/c%3A/el%20jabri/machine%20learning/gold.ipynb#Y333sZmlsZQ%3D%3D?line=7'>8</a>\u001b[0m \u001b[39m# Model 1\u001b[39;00m\n\u001b[0;32m      <a href='vscode-notebook-cell:/c%3A/el%20jabri/machine%20learning/gold.ipynb#Y333sZmlsZQ%3D%3D?line=8'>9</a>\u001b[0m model_1 \u001b[39m=\u001b[39m keras\u001b[39m.\u001b[39mSequential([\n\u001b[0;32m     <a href='vscode-notebook-cell:/c%3A/el%20jabri/machine%20learning/gold.ipynb#Y333sZmlsZQ%3D%3D?line=9'>10</a>\u001b[0m     keras\u001b[39m.\u001b[39mlayers\u001b[39m.\u001b[39mDense(\u001b[39m32\u001b[39m, activation\u001b[39m=\u001b[39m\u001b[39m'\u001b[39m\u001b[39mrelu\u001b[39m\u001b[39m'\u001b[39m, input_shape\u001b[39m=\u001b[39m(X_train_mapped_scaled\u001b[39m.\u001b[39mshape[\u001b[39m1\u001b[39m],)),\n\u001b[0;32m     <a href='vscode-notebook-cell:/c%3A/el%20jabri/machine%20learning/gold.ipynb#Y333sZmlsZQ%3D%3D?line=10'>11</a>\u001b[0m     keras\u001b[39m.\u001b[39mlayers\u001b[39m.\u001b[39mDense(\u001b[39m64\u001b[39m, activation\u001b[39m=\u001b[39m\u001b[39m'\u001b[39m\u001b[39mrelu\u001b[39m\u001b[39m'\u001b[39m),\n\u001b[0;32m     <a href='vscode-notebook-cell:/c%3A/el%20jabri/machine%20learning/gold.ipynb#Y333sZmlsZQ%3D%3D?line=11'>12</a>\u001b[0m     keras\u001b[39m.\u001b[39mlayers\u001b[39m.\u001b[39mDense(\u001b[39m1\u001b[39m)\n\u001b[0;32m     <a href='vscode-notebook-cell:/c%3A/el%20jabri/machine%20learning/gold.ipynb#Y333sZmlsZQ%3D%3D?line=12'>13</a>\u001b[0m ])\n\u001b[1;32m---> <a href='vscode-notebook-cell:/c%3A/el%20jabri/machine%20learning/gold.ipynb#Y333sZmlsZQ%3D%3D?line=13'>14</a>\u001b[0m model_1\u001b[39m.\u001b[39mname \u001b[39m=\u001b[39m \u001b[39m\"\u001b[39m\u001b[39mModel 1\u001b[39m\u001b[39m\"\u001b[39m\n\u001b[0;32m     <a href='vscode-notebook-cell:/c%3A/el%20jabri/machine%20learning/gold.ipynb#Y333sZmlsZQ%3D%3D?line=14'>15</a>\u001b[0m models\u001b[39m.\u001b[39mappend(model_1)\n\u001b[0;32m     <a href='vscode-notebook-cell:/c%3A/el%20jabri/machine%20learning/gold.ipynb#Y333sZmlsZQ%3D%3D?line=16'>17</a>\u001b[0m \u001b[39m# Model 2\u001b[39;00m\n",
      "File \u001b[1;32mc:\\Users\\UCA\\anaconda3\\Lib\\site-packages\\keras\\src\\engine\\training.py:389\u001b[0m, in \u001b[0;36mModel.__setattr__\u001b[1;34m(self, name, value)\u001b[0m\n\u001b[0;32m    382\u001b[0m     \u001b[39mexcept\u001b[39;00m \u001b[39mAttributeError\u001b[39;00m:\n\u001b[0;32m    383\u001b[0m         \u001b[39mraise\u001b[39;00m \u001b[39mRuntimeError\u001b[39;00m(\n\u001b[0;32m    384\u001b[0m             \u001b[39m\"\u001b[39m\u001b[39mIt looks like you are subclassing `Model` and you \u001b[39m\u001b[39m\"\u001b[39m\n\u001b[0;32m    385\u001b[0m             \u001b[39m\"\u001b[39m\u001b[39mforgot to call `super().__init__()`.\u001b[39m\u001b[39m\"\u001b[39m\n\u001b[0;32m    386\u001b[0m             \u001b[39m\"\u001b[39m\u001b[39m Always start with this line.\u001b[39m\u001b[39m\"\u001b[39m\n\u001b[0;32m    387\u001b[0m         )\n\u001b[1;32m--> 389\u001b[0m \u001b[39msuper\u001b[39m()\u001b[39m.\u001b[39m\u001b[39m__setattr__\u001b[39m(name, value)\n",
      "File \u001b[1;32mc:\\Users\\UCA\\anaconda3\\Lib\\site-packages\\keras\\src\\engine\\base_layer.py:3157\u001b[0m, in \u001b[0;36mLayer.__setattr__\u001b[1;34m(self, name, value)\u001b[0m\n\u001b[0;32m   3153\u001b[0m         \u001b[39msuper\u001b[39m(tf\u001b[39m.\u001b[39m__internal__\u001b[39m.\u001b[39mtracking\u001b[39m.\u001b[39mAutoTrackable, \u001b[39mself\u001b[39m)\u001b[39m.\u001b[39m\u001b[39m__setattr__\u001b[39m(\n\u001b[0;32m   3154\u001b[0m             name, value\n\u001b[0;32m   3155\u001b[0m         )\n\u001b[0;32m   3156\u001b[0m     \u001b[39mexcept\u001b[39;00m \u001b[39mAttributeError\u001b[39;00m:\n\u001b[1;32m-> 3157\u001b[0m         \u001b[39mraise\u001b[39;00m \u001b[39mAttributeError\u001b[39;00m(\n\u001b[0;32m   3158\u001b[0m             (\n\u001b[0;32m   3159\u001b[0m                 \u001b[39m'\u001b[39m\u001b[39mCan\u001b[39m\u001b[39m\\'\u001b[39;00m\u001b[39mt set the attribute \u001b[39m\u001b[39m\"\u001b[39m\u001b[39m{}\u001b[39;00m\u001b[39m\"\u001b[39m\u001b[39m, likely because it \u001b[39m\u001b[39m'\u001b[39m\n\u001b[0;32m   3160\u001b[0m                 \u001b[39m\"\u001b[39m\u001b[39mconflicts with an existing read-only @property of the \u001b[39m\u001b[39m\"\u001b[39m\n\u001b[0;32m   3161\u001b[0m                 \u001b[39m\"\u001b[39m\u001b[39mobject. Please choose a different name.\u001b[39m\u001b[39m\"\u001b[39m\n\u001b[0;32m   3162\u001b[0m             )\u001b[39m.\u001b[39mformat(name)\n\u001b[0;32m   3163\u001b[0m         )\n\u001b[0;32m   3164\u001b[0m     \u001b[39mreturn\u001b[39;00m\n\u001b[0;32m   3166\u001b[0m \u001b[39m# Wraps data structures in `Trackable`, unwraps `NoDependency` objects.\u001b[39;00m\n",
      "\u001b[1;31mAttributeError\u001b[0m: Can't set the attribute \"name\", likely because it conflicts with an existing read-only @property of the object. Please choose a different name."
     ]
    }
   ],
   "source": [
    "# Initialize lists that will contain the errors for each model\n",
    "nn_train_mses = []\n",
    "nn_cv_mses = []\n",
    "\n",
    "# Build the neural network models using your utility function (replace 'utils.build_models()' with the appropriate function)\n",
    "nn_models = build_models()\n",
    "\n",
    "# Loop over the models\n",
    "for model in nn_models:\n",
    "    \n",
    "    # Setup the loss and optimizer\n",
    "    model.compile(\n",
    "        loss='mean_squared_error',  # Use the appropriate loss function\n",
    "        optimizer=tf.keras.optimizers.Adam(learning_rate=0.1),\n",
    "    )\n",
    "\n",
    "    # print(f\"Training {model.name}...\")\n",
    "    \n",
    "    # Train the model\n",
    "    model.fit(\n",
    "        X_train_mapped_scaled, y_train,\n",
    "        epochs=300,\n",
    "        verbose=0\n",
    "    )\n",
    "    \n",
    "    print(\"Done!\\n\")\n",
    "    \n",
    "    # Record the training MSEs\n",
    "    yhat = model.predict(X_train_mapped_scaled)\n",
    "    train_mse = mean_squared_error(y_train, yhat) / 2\n",
    "    nn_train_mses.append(train_mse)\n",
    "    \n",
    "    # Record the cross-validation MSEs \n",
    "    yhat = model.predict(X_cv_mapped_scaled)\n",
    "    cv_mse = mean_squared_error(y_cv, yhat) / 2\n",
    "    nn_cv_mses.append(cv_mse)\n",
    "\n",
    "# Print results\n",
    "print(\"RESULTS:\")\n",
    "for model_num in range(len(nn_train_mses)):\n",
    "    print(\n",
    "        f\"Model {model_num+1}: Training MSE: {nn_train_mses[model_num]:.2f}, \" +\n",
    "        f\"CV MSE: {nn_cv_mses[model_num]:.2f}\"\n",
    "    )\n",
    "\n",
    "# # Select the model with the lowest CV MSE\n",
    "# model_num = np.argmin(nn_cv_mses) + 1\n",
    "\n",
    "# # Compute the test MSE\n",
    "# yhat = nn_models[model_num-1].predict(X_test_mapped_scaled)\n",
    "# test_mse = mean_squared_error(y_test, yhat) / 2\n",
    "\n",
    "# print(f\"Selected Model: {model_num}\")\n",
    "# print(f\"Training MSE: {nn_train_mses[model_num-1]:.2f}\")\n",
    "# print(f\"Cross Validation MSE: {nn_cv_mses[model_num-1]:.2f}\")\n",
    "# print(f\"Test MSE: {test_mse:.2f}\")\n"
   ]
  },
  {
   "cell_type": "code",
   "execution_count": null,
   "metadata": {},
   "outputs": [],
   "source": []
  }
 ],
 "metadata": {
  "kernelspec": {
   "display_name": "base",
   "language": "python",
   "name": "python3"
  },
  "language_info": {
   "codemirror_mode": {
    "name": "ipython",
    "version": 3
   },
   "file_extension": ".py",
   "mimetype": "text/x-python",
   "name": "python",
   "nbconvert_exporter": "python",
   "pygments_lexer": "ipython3",
   "version": "3.11.5"
  }
 },
 "nbformat": 4,
 "nbformat_minor": 2
}
